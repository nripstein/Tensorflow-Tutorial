{
 "nbformat": 4,
 "nbformat_minor": 0,
 "metadata": {
  "colab": {
   "provenance": []
  },
  "kernelspec": {
   "name": "python3",
   "display_name": "Python 3"
  },
  "language_info": {
   "name": "python"
  }
 },
 "cells": [
  {
   "cell_type": "markdown",
   "source": [
    "Tutorial I'm following\n",
    "[Learn TensorFlow and Deep Learning fundamentals with Python (code-first introduction) Part 1/2](https://www.youtube.com/watch?v=tpCFfeUEGs8&t=2378s)"
   ],
   "metadata": {
    "id": "gi4jllUG4zzQ"
   }
  },
  {
   "cell_type": "markdown",
   "source": [
    "module 9 creating our first tensors in tensorflow\n",
    "\n",
    "> Indented block\n",
    "\n"
   ],
   "metadata": {
    "id": "j6L0agGK7INX"
   }
  },
  {
   "cell_type": "code",
   "source": [
    "import tensorflow as tf\n",
    "import numpy as np\n",
    "import pandas as pd\n",
    "\n",
    "# module 9\n",
    "# create tensors with tf.constant:\n",
    "scalar = tf.constant(7)\n",
    "# print(scalar)\n",
    "\n",
    "# create vector\n",
    "vector = tf.constant([10, 8])\n",
    "# print(vector)\n",
    "\n",
    "# dimensions of vector:\n",
    "print(vector.ndim)\n",
    "\n",
    "# matrix (more than 1 dimension)\n",
    "\n",
    "matrix = tf.constant([[1, 2], [3, 6]])\n",
    "print(matrix)\n",
    "print(matrix.ndim)"
   ],
   "metadata": {
    "colab": {
     "base_uri": "https://localhost:8080/"
    },
    "id": "b0o5i3je5BcJ",
    "outputId": "3c622686-8620-4d53-89b2-22bb31db449e"
   },
   "execution_count": 32,
   "outputs": [
    {
     "name": "stdout",
     "output_type": "stream",
     "text": [
      "1\n",
      "tf.Tensor(\n",
      "[[1 2]\n",
      " [3 6]], shape=(2, 2), dtype=int32)\n",
      "2\n"
     ]
    }
   ]
  },
  {
   "cell_type": "markdown",
   "source": [
    "module 10 creating tensors with tf.variable"
   ],
   "metadata": {
    "id": "xg3PRbQv7JoO"
   }
  },
  {
   "cell_type": "code",
   "source": [
    "# using tf.variable\n",
    "changeable_tensor = tf.Variable([10, 7])\n",
    "immutable_tensor = tf.constant([7, 8])\n",
    "# print(changeable_tensor, immutable_tensor)\n",
    "\n",
    "# can't change changeable using changeable_tensor[0] = 7, use\n",
    "changeable_tensor[0].assign(7)\n",
    "print(changeable_tensor)"
   ],
   "metadata": {
    "colab": {
     "base_uri": "https://localhost:8080/"
    },
    "id": "Ecx7x3-X5qzR",
    "outputId": "4d00d2f3-d697-406d-8257-4316489401d9"
   },
   "execution_count": 3,
   "outputs": [
    {
     "name": "stdout",
     "output_type": "stream",
     "text": [
      "<tf.Variable 'Variable:0' shape=(2,) dtype=int32, numpy=array([7, 7], dtype=int32)>\n"
     ]
    }
   ]
  },
  {
   "cell_type": "markdown",
   "source": [
    "module 11 making random tensors"
   ],
   "metadata": {
    "id": "9cBT19EM8Dan"
   }
  },
  {
   "cell_type": "code",
   "source": [
    "rand1 = tf.random.Generator.from_seed(42)\n",
    "rand1 = rand1.normal(shape=(3, 2)) # make normal shape\n",
    "\n",
    "rand2 = tf.random.Generator.from_seed(42)\n",
    "rand2 = rand2.uniform(shape=(3, 2)) # make normal shape\n",
    "rand3 = tf.random.Generator.from_seed(42)\n",
    "rand3 = rand3.uniform(shape=(3, 2)) # make normal shape\n",
    "\n",
    "rand2 == rand3"
   ],
   "metadata": {
    "colab": {
     "base_uri": "https://localhost:8080/"
    },
    "id": "bQISv0N-8C6W",
    "outputId": "e69b91b2-d944-45fd-8430-0ceb3a6b99d8"
   },
   "execution_count": 4,
   "outputs": [
    {
     "data": {
      "text/plain": "<tf.Tensor: shape=(3, 2), dtype=bool, numpy=\narray([[ True,  True],\n       [ True,  True],\n       [ True,  True]])>"
     },
     "execution_count": 4,
     "metadata": {},
     "output_type": "execute_result"
    }
   ]
  },
  {
   "cell_type": "markdown",
   "source": [
    "Module 12 shuffling order of tensors"
   ],
   "metadata": {
    "id": "FC2koGIa-iFl"
   }
  },
  {
   "cell_type": "code",
   "source": [
    "# want to shuffle so order doesn't affect learning\n",
    "\n",
    "not_shuffled = tf.constant([[1, 2, 3], [4, 6, 9], [3, 4, 5]])\n",
    "\n",
    "# tf.random.shuffle(not_shuffled) # only shuffles along first dimension (col), can do ..., seed=42. still shuffles though. read more about this\n",
    "tf.random.shuffle(not_shuffled, seed=42)"
   ],
   "metadata": {
    "colab": {
     "base_uri": "https://localhost:8080/"
    },
    "id": "TR58QZWl-mLt",
    "outputId": "b71b7e38-a419-44ee-8917-b50111c5b3f8"
   },
   "execution_count": 5,
   "outputs": [
    {
     "data": {
      "text/plain": "<tf.Tensor: shape=(3, 3), dtype=int32, numpy=\narray([[3, 4, 5],\n       [4, 6, 9],\n       [1, 2, 3]], dtype=int32)>"
     },
     "execution_count": 5,
     "metadata": {},
     "output_type": "execute_result"
    }
   ]
  },
  {
   "cell_type": "markdown",
   "source": [
    "## Module 13 making tensors with numpy arrays"
   ],
   "metadata": {
    "id": "xu_LwNrgAbIt"
   }
  },
  {
   "cell_type": "code",
   "source": [
    "tf.random.set_seed(42)  # global level random seed\n",
    "# if this is the same as a local one, you'll get shuffled the same each time\n",
    "\n",
    "# other ways to make tensors\n",
    "ones_arr = np.ones([3, 4])\n",
    "ones_tns = tf.ones([3, 4]) # same idea as numpy ones. same with zeros\n",
    "# print(ones_arr)\n",
    "# print(ones_tns)\n",
    "\n",
    "\n",
    "# turn numpy arrays into tensors:\n",
    "# arrays and tensors are the same basically but tensors run on GPU\n",
    "\n",
    "numpy_A = np.arange(1, 25)  # can turn any numpy object into tensors\n",
    "from_np = tf.constant(numpy_A)\n",
    "from_np2 = tf.constant(numpy_A, shape=(2, 3, 4)) # can change shape (if we have right num of elements)\n",
    "from_np2\n",
    "\n",
    "\n",
    "# X = tf.constant(some_matrix)  # capital for matrix\n",
    "# y = tf.constant(vector) # not capital for vector"
   ],
   "metadata": {
    "colab": {
     "base_uri": "https://localhost:8080/"
    },
    "id": "UCAIwfNzAee0",
    "outputId": "ca387d78-ae8a-408a-b23f-fa9f674de947"
   },
   "execution_count": 6,
   "outputs": [
    {
     "data": {
      "text/plain": "<tf.Tensor: shape=(2, 3, 4), dtype=int64, numpy=\narray([[[ 1,  2,  3,  4],\n        [ 5,  6,  7,  8],\n        [ 9, 10, 11, 12]],\n\n       [[13, 14, 15, 16],\n        [17, 18, 19, 20],\n        [21, 22, 23, 24]]])>"
     },
     "execution_count": 6,
     "metadata": {},
     "output_type": "execute_result"
    }
   ]
  },
  {
   "cell_type": "markdown",
   "source": [
    "Module 14 getting info from tensors such as:\n",
    "- shape\n",
    "- rank\n",
    "- axis or dimension\n",
    "- size"
   ],
   "metadata": {
    "id": "svTM3F96Cty1"
   }
  },
  {
   "cell_type": "code",
   "source": [
    "# create tensor with rank = 4\n",
    "rank_4_tensor = tf.zeros(shape=[2,3,4,5])\n",
    "# rank_4_tensor[0]\n",
    "\n",
    "# rank_4_tensor.shape\n",
    "# rank_4_tensor.dtype\n",
    "# tf.size(rank_4_tensor) # total number of elements in it\n",
    "rank_4_tensor.ndim\n",
    "\n",
    "# get attributes of tensor\n",
    "print(\"datatype of every element: \", rank_4_tensor.dtype)\n",
    "print(\"num dims: \", rank_4_tensor.ndim)\n",
    "print(\"shapre: \", rank_4_tensor.shape)\n",
    "print(\"elements along 0 axis: \", rank_4_tensor.shape[0])\n",
    "print(\"elements along last axis: \", rank_4_tensor.shape[-1])\n",
    "print(\"total num elements: \", tf.size(rank_4_tensor))\n",
    "print(\"total num elements as numpy: \", tf.size(rank_4_tensor).numpy())"
   ],
   "metadata": {
    "colab": {
     "base_uri": "https://localhost:8080/"
    },
    "id": "EFTShCV4CwYs",
    "outputId": "428143d2-3aa6-42c0-dee8-7c14b253cd0e"
   },
   "execution_count": 7,
   "outputs": [
    {
     "name": "stdout",
     "output_type": "stream",
     "text": [
      "datatype of every element:  <dtype: 'float32'>\n",
      "num dims:  4\n",
      "shapre:  (2, 3, 4, 5)\n",
      "elements along 0 axis:  2\n",
      "elements along last axis:  5\n",
      "total num elements:  tf.Tensor(120, shape=(), dtype=int32)\n",
      "total num elements as numpy:  120\n"
     ]
    }
   ]
  },
  {
   "cell_type": "markdown",
   "source": [
    "## Module 16 Indexing and expanding tensors\n",
    "- can be indexed like python lists"
   ],
   "metadata": {
    "id": "8YAMf84wEkzW"
   }
  },
  {
   "cell_type": "code",
   "source": [
    "# print(rank_4_tensor)\n",
    "\n",
    "# get first 2 elements of each dimension\n",
    "first_2 = rank_4_tensor[:2, :2, :2, :2]\n",
    "first_2\n",
    "\n",
    "# get first elemenent from each dimension from each index except final one\n",
    "# print(rank_4_tensor[:1, :1, :1, :])\n",
    "# print(rank_4_tensor[:1, :, :1, :1]) # same but exclude second (/fisrt if we use 0 indexing)\n",
    "\n",
    "\n",
    "# adding dimension to end of tensor\n",
    "\n",
    "rank_2_tensor = tf.constant([[1, 2], [4, 2]])\n",
    "# get last item of each row of our rank 2 tensor\n",
    "# print(rank_2_tensor[:, -1])\n",
    "\n",
    "# add extra dimension to rank2 tensor, make it rank3 using tf.newaxis:\n",
    "rank_3_tensor = rank_2_tensor[..., tf.newaxis]\n",
    "print(rank_3_tensor)\n",
    "# tf.newaxis inerts another dimension\n",
    "print(\"------\")\n",
    "# alternative to tf.newaxis. same as above notation\n",
    "# tf.expand_dims(rank_2_tensor, axis=-1)\n",
    "\n",
    "# expand the 0 axis. numbers inside stay the same but changes shape\n",
    "tf.expand_dims(rank_2_tensor, axis=0)"
   ],
   "metadata": {
    "colab": {
     "base_uri": "https://localhost:8080/"
    },
    "id": "JFji6ai7Eo_D",
    "outputId": "cdf5cddb-1281-493c-f50e-fc1749ca0eb1"
   },
   "execution_count": 8,
   "outputs": [
    {
     "name": "stdout",
     "output_type": "stream",
     "text": [
      "tf.Tensor(\n",
      "[[[1]\n",
      "  [2]]\n",
      "\n",
      " [[4]\n",
      "  [2]]], shape=(2, 2, 1), dtype=int32)\n",
      "------\n"
     ]
    },
    {
     "data": {
      "text/plain": "<tf.Tensor: shape=(1, 2, 2), dtype=int32, numpy=\narray([[[1, 2],\n        [4, 2]]], dtype=int32)>"
     },
     "execution_count": 8,
     "metadata": {},
     "output_type": "execute_result"
    }
   ]
  },
  {
   "cell_type": "markdown",
   "source": [
    "## Module 17 manipulating tensors with basic operations (basic python operators)\n",
    "+, -, *, /"
   ],
   "metadata": {
    "id": "D-KYTakzIaXt"
   }
  },
  {
   "cell_type": "code",
   "source": [
    "tns1 = tf.constant([[10, 7],[2,3]])\n",
    "\n",
    "tns1 + 10 # adds 10 to each element. keeps underlying the same. same with -,*,/\n",
    "\n",
    "faster_mult = tf.multiply(tns1, 10) # same as tns1 * 10, but this notation is faster \n"
   ],
   "metadata": {
    "colab": {
     "base_uri": "https://localhost:8080/"
    },
    "id": "7oTfObVKIemi",
    "outputId": "c9264178-bd16-41b1-d042-00d3e8d84702"
   },
   "execution_count": 9,
   "outputs": []
  },
  {
   "cell_type": "markdown",
   "source": [
    "## Module 17 matrix multiplication part 1\n",
    "\n",
    "In machine learning, matrix multiplication is one of the most ocmmon operations\n",
    "\n",
    "when can we do it:\n",
    "1. inner dimensions must match\n",
    "2. resulting matrix has shape of outer dimensions (n_cols must = n_rows)\n",
    "3. makes "
   ],
   "metadata": {
    "id": "tuYGiuK5JJiT"
   }
  },
  {
   "cell_type": "code",
   "source": [
    "# matrix multiplication in tensorflow\n",
    "tf.matmul(tns1, tns1)\n",
    "\n",
    "# works bc they have the right shape. only works because the num cols of first = num rows col2\n"
   ],
   "metadata": {
    "colab": {
     "base_uri": "https://localhost:8080/"
    },
    "id": "EMeovt-mJNXX",
    "outputId": "f9ebb956-3ec2-491f-b464-2974f72ab210"
   },
   "execution_count": 10,
   "outputs": [
    {
     "data": {
      "text/plain": "<tf.Tensor: shape=(2, 2), dtype=int32, numpy=\narray([[114,  91],\n       [ 26,  23]], dtype=int32)>"
     },
     "execution_count": 10,
     "metadata": {},
     "output_type": "execute_result"
    }
   ]
  },
  {
   "cell_type": "markdown",
   "source": [
    "## Module 18 matrix multiplication part 2"
   ],
   "metadata": {
    "id": "2jvrHpJSMEGb"
   }
  },
  {
   "cell_type": "code",
   "source": [
    "X = tf.random.Generator.from_seed(1)\n",
    "X = X.normal(shape=(3, 2))\n",
    "\n",
    "Y = tf.random.Generator.from_seed(2)\n",
    "Y = Y.normal(shape=(3, 2))\n",
    "\n",
    "# tf.matmul(X, Y) # doesn't work bc the num rows and cols aren't right for each other\n",
    "\n",
    "# lets change the shape of Y to allow matrix multiplication\n",
    "Y2 = tf.reshape(Y, shape=(2, 3))\n",
    "\n",
    "tf.matmul(X, Y2)\n",
    "# print(Y2)\n",
    "# print(Y)\n",
    "print(tf.transpose(X)) # transpose switches the axes, reshape shiffles around till right shape"
   ],
   "metadata": {
    "colab": {
     "base_uri": "https://localhost:8080/"
    },
    "id": "T7JzunMaMHEj",
    "outputId": "dc2d95c1-098d-46e2-de96-c27ff2417248"
   },
   "execution_count": 16,
   "outputs": [
    {
     "name": "stdout",
     "output_type": "stream",
     "text": [
      "tf.Tensor(\n",
      "[[ 0.43842274 -0.07710262 -0.1012345 ]\n",
      " [-0.53439844  1.5658046  -0.2744976 ]], shape=(2, 3), dtype=float32)\n"
     ]
    }
   ]
  },
  {
   "cell_type": "markdown",
   "source": [
    "## Module 19 Matrix multiplication part 3.\n",
    "dot product\n",
    "- tf.matmul()\n",
    "- tf.tensordot()"
   ],
   "metadata": {
    "collapsed": false
   }
  },
  {
   "cell_type": "code",
   "source": [
    "X = tf.random.Generator.from_seed(1)\n",
    "X = X.normal(shape=(3, 2))\n",
    "\n",
    "Y = tf.random.Generator.from_seed(2)\n",
    "Y = Y.normal(shape=(3, 2))\n",
    "# print(X)\n",
    "# print(Y)\n",
    "new_x = tf.transpose(X)\n",
    "# print(new_x)\n",
    "\n",
    "print(tf.tensordot(new_x, Y, axes=1)) # along first axis\n",
    "print(tf.tensordot(tf.reshape(X, shape=(2, 3)), Y, axes=1)) # diff results"
   ],
   "metadata": {
    "id": "CPIY_OePOJW3"
   },
   "execution_count": 26,
   "outputs": [
    {
     "name": "stdout",
     "output_type": "stream",
     "text": [
      "tf.Tensor(\n",
      "[[-0.10972547 -0.01880456]\n",
      " [ 2.3980646   2.6600351 ]], shape=(2, 2), dtype=float32)\n",
      "tf.Tensor(\n",
      "[[-0.7698299  -0.6428106 ]\n",
      " [-0.18252032 -0.01851268]], shape=(2, 2), dtype=float32)\n"
     ]
    }
   ]
  },
  {
   "cell_type": "markdown",
   "source": [
    "## [Module 20 changing the datatype of tensors](https://www.youtube.com/watch?v=tpCFfeUEGs8&list=WL&index=8&t=9708s)"
   ],
   "metadata": {
    "collapsed": false
   }
  },
  {
   "cell_type": "code",
   "execution_count": 28,
   "outputs": [
    {
     "name": "stdout",
     "output_type": "stream",
     "text": [
      "<dtype: 'float32'> <dtype: 'int32'>\n",
      "tf.Tensor([7. 4.], shape=(2,), dtype=float16)\n"
     ]
    }
   ],
   "source": [
    "a = tf.constant([1.7, 7.4])\n",
    "b = tf.constant([7, 4])\n",
    "print(a.dtype, b.dtype)  # default is 32 bit precision\n",
    "# float32 to float16 to reduce precision\n",
    "b = tf.cast(b, dtype = tf.float16)\n",
    "\n"
   ],
   "metadata": {
    "collapsed": false
   }
  },
  {
   "cell_type": "markdown",
   "source": [
    "## [Module 21 aggregating tensors](https://youtu.be/tpCFfeUEGs8?t=11302)\n",
    "Getting lots of values down to fewer"
   ],
   "metadata": {
    "collapsed": false
   }
  },
  {
   "cell_type": "code",
   "execution_count": 39,
   "outputs": [
    {
     "name": "stdout",
     "output_type": "stream",
     "text": [
      "tf.Tensor([7 6], shape=(2,), dtype=int32)\n",
      "tf.Tensor(1, shape=(), dtype=int64)\n"
     ]
    }
   ],
   "source": [
    "D = tf.constant([-7, 6])\n",
    "# absolute value\n",
    "print(tf.abs(D))\n",
    "\n",
    "# forms of aggregation\n",
    "# minimum of tensor, maximum, mean, sum of tensor\n",
    "\n",
    "tmp = tf.constant(np.random.randint(0, 100, size=50)) # sample tensor\n",
    "# print(tmp)\n",
    "\n",
    "\n",
    "print(tf.reduce_min(tmp)) # minimum\n",
    "print(tf.reduce_max(tmp))  # max\n",
    "print(tf.reduce_mean(tmp)) # minimum\n",
    "print(tf.reduce_sum(tmp))\n"
   ],
   "metadata": {
    "collapsed": false
   }
  },
  {
   "cell_type": "markdown",
   "source": [
    "# [Module 22 Tensorflow troubleshooting](https://youtu.be/tpCFfeUEGs8?t=11774)\n",
    "Didn't bother following along with the code in this, just watched the video"
   ],
   "metadata": {
    "collapsed": false
   }
  },
  {
   "cell_type": "markdown",
   "source": [
    "# [Module 23 find the positional max and min of a tensor](https://youtu.be/tpCFfeUEGs8?t=12147)\n",
    "find index of max or min\n"
   ],
   "metadata": {
    "collapsed": false
   }
  },
  {
   "cell_type": "code",
   "execution_count": 47,
   "outputs": [
    {
     "data": {
      "text/plain": "<tf.Tensor: shape=(), dtype=int64, numpy=43>"
     },
     "execution_count": 47,
     "metadata": {},
     "output_type": "execute_result"
    }
   ],
   "source": [
    "tf.random.set_seed(1)\n",
    "F = tf.random.uniform(shape=[50])\n",
    "\n",
    "# positional max\n",
    "tf.argmax(F)  # find index of largest value\n",
    "F[tf.argmax(F)] # index on our largest value\n",
    "tf.reduce_max(F) # find regular max. same as argmax method. they're the same\n",
    "\n",
    "tf.argmin(F)\n"
   ],
   "metadata": {
    "collapsed": false
   }
  },
  {
   "cell_type": "markdown",
   "source": [
    "# [Module 24 squeezing a tensor](https://youtu.be/tpCFfeUEGs8?t=12716)\n",
    "this part goes up to module 27. I will come back to it"
   ],
   "metadata": {
    "collapsed": false
   }
  },
  {
   "cell_type": "code",
   "execution_count": null,
   "outputs": [],
   "source": [],
   "metadata": {
    "collapsed": false
   }
  },
  {
   "cell_type": "markdown",
   "source": [],
   "metadata": {
    "collapsed": false
   }
  }
 ]
}
