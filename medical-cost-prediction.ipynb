{
 "cells": [
  {
   "cell_type": "markdown",
   "source": [
    "# [Module 50: putting together what we learned](https://youtu.be/tpCFfeUEGs8?t=26887)\n",
    "## Predicting medical costs"
   ],
   "metadata": {
    "collapsed": false
   }
  },
  {
   "cell_type": "code",
   "execution_count": 8,
   "metadata": {
    "collapsed": true
   },
   "outputs": [],
   "source": [
    "# imports and dataset\n",
    "import numpy as np\n",
    "import pandas as pd\n",
    "import matplotlib.pyplot as plt\n",
    "import tensorflow as tf\n",
    "insurance = pd.read_csv(\"https://raw.githubusercontent.com/stedy/Machine-Learning-with-R-datasets/master/insurance.csv\")"
   ]
  },
  {
   "cell_type": "code",
   "execution_count": 14,
   "outputs": [
    {
     "name": "stdout",
     "output_type": "stream",
     "text": [
      "      age     bmi  children      charges  sex_female  sex_male  smoker_no  \\\n",
      "0      19  27.900         0  16884.92400           1         0          0   \n",
      "1      18  33.770         1   1725.55230           0         1          1   \n",
      "2      28  33.000         3   4449.46200           0         1          1   \n",
      "3      33  22.705         0  21984.47061           0         1          1   \n",
      "4      32  28.880         0   3866.85520           0         1          1   \n",
      "...   ...     ...       ...          ...         ...       ...        ...   \n",
      "1333   50  30.970         3  10600.54830           0         1          1   \n",
      "1334   18  31.920         0   2205.98080           1         0          1   \n",
      "1335   18  36.850         0   1629.83350           1         0          1   \n",
      "1336   21  25.800         0   2007.94500           1         0          1   \n",
      "1337   61  29.070         0  29141.36030           1         0          0   \n",
      "\n",
      "      smoker_yes  region_northeast  region_northwest  region_southeast  \\\n",
      "0              1                 0                 0                 0   \n",
      "1              0                 0                 0                 1   \n",
      "2              0                 0                 0                 1   \n",
      "3              0                 0                 1                 0   \n",
      "4              0                 0                 1                 0   \n",
      "...          ...               ...               ...               ...   \n",
      "1333           0                 0                 1                 0   \n",
      "1334           0                 1                 0                 0   \n",
      "1335           0                 0                 0                 1   \n",
      "1336           0                 0                 0                 0   \n",
      "1337           1                 0                 1                 0   \n",
      "\n",
      "      region_southwest  \n",
      "0                    1  \n",
      "1                    0  \n",
      "2                    0  \n",
      "3                    0  \n",
      "4                    0  \n",
      "...                ...  \n",
      "1333                 0  \n",
      "1334                 0  \n",
      "1335                 0  \n",
      "1336                 1  \n",
      "1337                 0  \n",
      "\n",
      "[1338 rows x 12 columns]\n"
     ]
    }
   ],
   "source": [
    "# convert sex and smoker to int\n",
    "# we'll use one hot encoding (one value gets 1, everything else is 0)\n",
    "\n",
    "# get dummies converts categorical variable to numeric for one hot encoding\n",
    "insurance_one_hot = pd.get_dummies(insurance)\n",
    "print(insurance_one_hot)"
   ],
   "metadata": {
    "collapsed": false
   }
  },
  {
   "cell_type": "markdown",
   "source": [
    "# [Module 51: putting together what we learned: building a regression model](https://youtu.be/tpCFfeUEGs8?t=27698)\n",
    "I will\n",
    "1. Create features and values\n",
    "2. Create training and test set\n",
    "3. Build a neural network"
   ],
   "metadata": {
    "collapsed": false
   }
  },
  {
   "cell_type": "code",
   "execution_count": null,
   "outputs": [],
   "source": [
    "# create features and values\n"
   ],
   "metadata": {
    "collapsed": false
   }
  }
 ],
 "metadata": {
  "kernelspec": {
   "display_name": "Python 3",
   "language": "python",
   "name": "python3"
  },
  "language_info": {
   "codemirror_mode": {
    "name": "ipython",
    "version": 2
   },
   "file_extension": ".py",
   "mimetype": "text/x-python",
   "name": "python",
   "nbconvert_exporter": "python",
   "pygments_lexer": "ipython2",
   "version": "2.7.6"
  }
 },
 "nbformat": 4,
 "nbformat_minor": 0
}
