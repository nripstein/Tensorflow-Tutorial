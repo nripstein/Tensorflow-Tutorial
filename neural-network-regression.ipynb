{
 "cells": [
  {
   "cell_type": "markdown",
   "source": [
    "# [Module 31 Creating sample regression data](https://youtu.be/tpCFfeUEGs8?t=15459)"
   ],
   "metadata": {
    "collapsed": false
   }
  },
  {
   "cell_type": "code",
   "execution_count": 1,
   "metadata": {
    "collapsed": true
   },
   "outputs": [
    {
     "data": {
      "text/plain": "<Figure size 640x480 with 1 Axes>",
      "image/png": "[encoded data removed]"
     },
     "metadata": {},
     "output_type": "display_data"
    }
   ],
   "source": [
    "import tensorflow as tf\n",
    "import numpy as np\n",
    "import pandas as pd\n",
    "import matplotlib.pyplot as plt\n",
    "\n",
    "\n",
    "X = np.array([-7, -4, -1, 2, 5, 8, 11, 14])  # making data to view and fit\n",
    "y = np.array([3, 6, 9, 12, 15, 18, 21, 24])  # create labels\n",
    "\n",
    "# visualize it\n",
    "plt.scatter(X, y)\n",
    "\n",
    "# we want it to learn that\n",
    "# print(X == Y - 10)\n",
    "\n",
    "# house price demo tensor\n",
    "house_info = tf.constant([\"bedroom\", \"bathroom\", \"garage\"])\n",
    "house_price = tf.constant([937_000])\n",
    "\n",
    "# X and Y are the same shape, so we want to use X[i] to predict Y[i]\n"
   ]
  },
  {
   "cell_type": "markdown",
   "source": [
    "# [Module 32 Steps in modelling with Tensorflow](https://youtu.be/tpCFfeUEGs8?t=16119)\n",
    "\n",
    "### Steps in modelling with tensorflow\n",
    "1. Creating the model: define the input and output layers, as well as the hidden layers if it's a deep learning model\n",
    "2. Compile the model:\n",
    "3. Fitting the model: let the model try to find patterns between X and y (features and labels)\n",
    "4. Evaluate the model\n",
    "\n",
    "### Compiling the model\n",
    "1. Define the loss function: function that tells our model how wrong it is\n",
    "2. Define the optimizer: function that tells our model how to improve the patterns it's learning\n",
    "3. Evaluation metrics: what we use to interpret performance of the model\n"
   ],
   "metadata": {
    "collapsed": false
   }
  },
  {
   "cell_type": "code",
   "execution_count": 5,
   "outputs": [],
   "source": [
    "# turn x and y into tensors\n",
    "X = tf.constant(X)\n",
    "y = tf.constant(y)\n",
    "input_shape = X[0].shape\n",
    "# input_shape\n",
    "# set random seed:\n"
   ],
   "metadata": {
    "collapsed": false
   }
  },
  {
   "cell_type": "code",
   "execution_count": 19,
   "outputs": [
    {
     "name": "stdout",
     "output_type": "stream",
     "text": [
      "Epoch 1/5\n",
      "1/1 [==============================] - 0s 138ms/step - loss: 19.4446 - mae: 19.4446\n",
      "Epoch 2/5\n",
      "1/1 [==============================] - 0s 2ms/step - loss: 19.1634 - mae: 19.1634\n",
      "Epoch 3/5\n",
      "1/1 [==============================] - 0s 2ms/step - loss: 18.8821 - mae: 18.8821\n",
      "Epoch 4/5\n",
      "1/1 [==============================] - 0s 2ms/step - loss: 18.6009 - mae: 18.6009\n",
      "Epoch 5/5\n",
      "1/1 [==============================] - 0s 1ms/step - loss: 18.3196 - mae: 18.3196\n"
     ]
    },
    {
     "data": {
      "text/plain": "<keras.callbacks.History at 0x1740c64d0>"
     },
     "execution_count": 19,
     "metadata": {},
     "output_type": "execute_result"
    }
   ],
   "source": [
    "# tf.keras.optimizers.legacy.Adam()  # need this to work on M1 CPU. wait maybe not\n",
    "# set random seed\n",
    "tf.random.set_seed(42)\n",
    "\n",
    "X = tf.reshape(X, (-1, 1)) # I don't know why this is needed??\n",
    "\n",
    "# 1 create the model\n",
    "# use sequential API\n",
    "model = tf.keras.models.Sequential(\n",
    "    # tf.keras.layers.Input(shape=(1,)),\n",
    "    tf.keras.layers.Dense(1)  # 1 because we have 1 number as input and one as output\n",
    ")\n",
    "# equivalent way to do step 1:\n",
    "model2 = tf.keras.Sequential()\n",
    "model2.add(tf.keras.layers.Dense(1))\n",
    "\n",
    "# 2 compile the model\n",
    "model.compile(loss=tf.keras.losses.MAE,  # mean absolute error is loss fn\n",
    "              optimizer=tf.keras.optimizers.SGD(),  # stochastic gradient descent\n",
    "              metrics=[\"mae\"])\n",
    "\n",
    "# 3 fitting the model\n",
    "model.fit(X, y, epochs=5)\n",
    "\n",
    "# 4 evaluate the model"
   ],
   "metadata": {
    "collapsed": false
   }
  },
  {
   "cell_type": "code",
   "execution_count": 18,
   "outputs": [
    {
     "name": "stdout",
     "output_type": "stream",
     "text": [
      "1/1 [==============================] - 0s 30ms/step\n"
     ]
    },
    {
     "data": {
      "text/plain": "array([[29.53802]], dtype=float32)"
     },
     "execution_count": 18,
     "metadata": {},
     "output_type": "execute_result"
    }
   ],
   "source": [
    "# try and make a prediction using our model\n",
    "model.predict([17])  # not that good, can be improved w more epochs"
   ],
   "metadata": {
    "collapsed": false
   }
  },
  {
   "cell_type": "markdown",
   "source": [
    "# [Module 33 Improving a model part 1](https://youtu.be/tpCFfeUEGs8?t=17333)\n",
    "(No code associated with this module)\n",
    "\n",
    "Improving step 1: create a model\n",
    "1. We might add more layers (neurons)\n",
    "2. We might change activation function within each layer\n",
    "\n",
    "Improving step 2: compile the model\n",
    "1. change optimization function\n",
    "2. change learning rate of optimization function\n",
    "\n",
    "Improving step 3: fit a model\n",
    "1. Fit model for more epochs\n",
    "2. Give more training data"
   ],
   "metadata": {
    "collapsed": false
   }
  },
  {
   "cell_type": "markdown",
   "source": [
    "# [Module 34 Improving a model part 2](https://youtu.be/tpCFfeUEGs8?t=17696)\n",
    "Better version of module 32's model"
   ],
   "metadata": {
    "collapsed": false
   }
  },
  {
   "cell_type": "code",
   "execution_count": 30,
   "outputs": [
    {
     "name": "stdout",
     "output_type": "stream",
     "text": [
      "Epoch 1/100\n",
      "1/1 [==============================] - 0s 195ms/step - loss: 13.7619 - mae: 13.7619\n",
      "Epoch 2/100\n",
      "1/1 [==============================] - 0s 3ms/step - loss: 13.2854 - mae: 13.2854\n",
      "Epoch 3/100\n",
      "1/1 [==============================] - 0s 2ms/step - loss: 12.8858 - mae: 12.8858\n",
      "Epoch 4/100\n",
      "1/1 [==============================] - 0s 2ms/step - loss: 12.4689 - mae: 12.4689\n",
      "Epoch 5/100\n",
      "1/1 [==============================] - 0s 2ms/step - loss: 12.0380 - mae: 12.0380\n",
      "Epoch 6/100\n",
      "1/1 [==============================] - 0s 2ms/step - loss: 11.5601 - mae: 11.5601\n",
      "Epoch 7/100\n",
      "1/1 [==============================] - 0s 1ms/step - loss: 11.0134 - mae: 11.0134\n",
      "Epoch 8/100\n",
      "1/1 [==============================] - 0s 2ms/step - loss: 10.3592 - mae: 10.3592\n",
      "Epoch 9/100\n",
      "1/1 [==============================] - 0s 2ms/step - loss: 9.5750 - mae: 9.5750\n",
      "Epoch 10/100\n",
      "1/1 [==============================] - 0s 2ms/step - loss: 8.5773 - mae: 8.5773\n",
      "Epoch 11/100\n",
      "1/1 [==============================] - 0s 2ms/step - loss: 7.3262 - mae: 7.3262\n",
      "Epoch 12/100\n",
      "1/1 [==============================] - 0s 2ms/step - loss: 5.8486 - mae: 5.8486\n",
      "Epoch 13/100\n",
      "1/1 [==============================] - 0s 3ms/step - loss: 4.0542 - mae: 4.0542\n",
      "Epoch 14/100\n",
      "1/1 [==============================] - 0s 2ms/step - loss: 3.9337 - mae: 3.9337\n",
      "Epoch 15/100\n",
      "1/1 [==============================] - 0s 2ms/step - loss: 4.0109 - mae: 4.0109\n",
      "Epoch 16/100\n",
      "1/1 [==============================] - 0s 2ms/step - loss: 3.9392 - mae: 3.9392\n",
      "Epoch 17/100\n",
      "1/1 [==============================] - 0s 1ms/step - loss: 3.9643 - mae: 3.9643\n",
      "Epoch 18/100\n",
      "1/1 [==============================] - 0s 2ms/step - loss: 3.9491 - mae: 3.9491\n",
      "Epoch 19/100\n",
      "1/1 [==============================] - 0s 1ms/step - loss: 3.9145 - mae: 3.9145\n",
      "Epoch 20/100\n",
      "1/1 [==============================] - 0s 2ms/step - loss: 3.9612 - mae: 3.9612\n",
      "Epoch 21/100\n",
      "1/1 [==============================] - 0s 3ms/step - loss: 3.8628 - mae: 3.8628\n",
      "Epoch 22/100\n",
      "1/1 [==============================] - 0s 2ms/step - loss: 3.9738 - mae: 3.9738\n",
      "Epoch 23/100\n",
      "1/1 [==============================] - 0s 2ms/step - loss: 3.8095 - mae: 3.8095\n",
      "Epoch 24/100\n",
      "1/1 [==============================] - 0s 2ms/step - loss: 3.9867 - mae: 3.9867\n",
      "Epoch 25/100\n",
      "1/1 [==============================] - 0s 2ms/step - loss: 3.7805 - mae: 3.7805\n",
      "Epoch 26/100\n",
      "1/1 [==============================] - 0s 3ms/step - loss: 3.9632 - mae: 3.9632\n",
      "Epoch 27/100\n",
      "1/1 [==============================] - 0s 3ms/step - loss: 3.7957 - mae: 3.7957\n",
      "Epoch 28/100\n",
      "1/1 [==============================] - 0s 2ms/step - loss: 3.9093 - mae: 3.9093\n",
      "Epoch 29/100\n",
      "1/1 [==============================] - 0s 2ms/step - loss: 3.8125 - mae: 3.8125\n",
      "Epoch 30/100\n",
      "1/1 [==============================] - 0s 2ms/step - loss: 3.8537 - mae: 3.8537\n",
      "Epoch 31/100\n",
      "1/1 [==============================] - 0s 3ms/step - loss: 3.8296 - mae: 3.8296\n",
      "Epoch 32/100\n",
      "1/1 [==============================] - 0s 2ms/step - loss: 3.7971 - mae: 3.7971\n",
      "Epoch 33/100\n",
      "1/1 [==============================] - 0s 2ms/step - loss: 3.8474 - mae: 3.8474\n",
      "Epoch 34/100\n",
      "1/1 [==============================] - 0s 2ms/step - loss: 3.7395 - mae: 3.7395\n",
      "Epoch 35/100\n",
      "1/1 [==============================] - 0s 2ms/step - loss: 3.8654 - mae: 3.8654\n",
      "Epoch 36/100\n",
      "1/1 [==============================] - 0s 2ms/step - loss: 3.6789 - mae: 3.6789\n",
      "Epoch 37/100\n",
      "1/1 [==============================] - 0s 2ms/step - loss: 3.8868 - mae: 3.8868\n",
      "Epoch 38/100\n",
      "1/1 [==============================] - 0s 3ms/step - loss: 3.6843 - mae: 3.6843\n",
      "Epoch 39/100\n",
      "1/1 [==============================] - 0s 3ms/step - loss: 3.8364 - mae: 3.8364\n",
      "Epoch 40/100\n",
      "1/1 [==============================] - 0s 3ms/step - loss: 3.7426 - mae: 3.7426\n",
      "Epoch 41/100\n",
      "1/1 [==============================] - 0s 2ms/step - loss: 3.7382 - mae: 3.7382\n",
      "Epoch 42/100\n",
      "1/1 [==============================] - 0s 2ms/step - loss: 3.7649 - mae: 3.7649\n",
      "Epoch 43/100\n",
      "1/1 [==============================] - 0s 3ms/step - loss: 3.6724 - mae: 3.6724\n",
      "Epoch 44/100\n",
      "1/1 [==============================] - 0s 2ms/step - loss: 3.7887 - mae: 3.7887\n",
      "Epoch 45/100\n",
      "1/1 [==============================] - 0s 1ms/step - loss: 3.6064 - mae: 3.6064\n",
      "Epoch 46/100\n",
      "1/1 [==============================] - 0s 1ms/step - loss: 3.8124 - mae: 3.8124\n",
      "Epoch 47/100\n",
      "1/1 [==============================] - 0s 1ms/step - loss: 3.6153 - mae: 3.6153\n",
      "Epoch 48/100\n",
      "1/1 [==============================] - 0s 1ms/step - loss: 3.7470 - mae: 3.7470\n",
      "Epoch 49/100\n",
      "1/1 [==============================] - 0s 1ms/step - loss: 3.6404 - mae: 3.6404\n",
      "Epoch 50/100\n",
      "1/1 [==============================] - 0s 2ms/step - loss: 3.6805 - mae: 3.6805\n",
      "Epoch 51/100\n",
      "1/1 [==============================] - 0s 3ms/step - loss: 3.7028 - mae: 3.7028\n",
      "Epoch 52/100\n",
      "1/1 [==============================] - 0s 2ms/step - loss: 3.5830 - mae: 3.5830\n",
      "Epoch 53/100\n",
      "1/1 [==============================] - 0s 2ms/step - loss: 3.7299 - mae: 3.7299\n",
      "Epoch 54/100\n",
      "1/1 [==============================] - 0s 1ms/step - loss: 3.5385 - mae: 3.5385\n",
      "Epoch 55/100\n",
      "1/1 [==============================] - 0s 2ms/step - loss: 3.7164 - mae: 3.7164\n",
      "Epoch 56/100\n",
      "1/1 [==============================] - 0s 1ms/step - loss: 3.5649 - mae: 3.5649\n",
      "Epoch 57/100\n",
      "1/1 [==============================] - 0s 2ms/step - loss: 3.6435 - mae: 3.6435\n",
      "Epoch 58/100\n",
      "1/1 [==============================] - 0s 3ms/step - loss: 3.5916 - mae: 3.5916\n",
      "Epoch 59/100\n",
      "1/1 [==============================] - 0s 2ms/step - loss: 3.5683 - mae: 3.5683\n",
      "Epoch 60/100\n",
      "1/1 [==============================] - 0s 2ms/step - loss: 3.6212 - mae: 3.6212\n",
      "Epoch 61/100\n",
      "1/1 [==============================] - 0s 2ms/step - loss: 3.4909 - mae: 3.4909\n",
      "Epoch 62/100\n",
      "1/1 [==============================] - 0s 2ms/step - loss: 3.6525 - mae: 3.6525\n",
      "Epoch 63/100\n",
      "1/1 [==============================] - 0s 1ms/step - loss: 3.4657 - mae: 3.4657\n",
      "Epoch 64/100\n",
      "1/1 [==============================] - 0s 2ms/step - loss: 3.6414 - mae: 3.6414\n",
      "Epoch 65/100\n",
      "1/1 [==============================] - 0s 2ms/step - loss: 3.5291 - mae: 3.5291\n",
      "Epoch 66/100\n",
      "1/1 [==============================] - 0s 2ms/step - loss: 3.5146 - mae: 3.5146\n",
      "Epoch 67/100\n",
      "1/1 [==============================] - 0s 2ms/step - loss: 3.5603 - mae: 3.5603\n",
      "Epoch 68/100\n",
      "1/1 [==============================] - 0s 2ms/step - loss: 3.4326 - mae: 3.4326\n",
      "Epoch 69/100\n",
      "1/1 [==============================] - 0s 2ms/step - loss: 3.5927 - mae: 3.5927\n",
      "Epoch 70/100\n",
      "1/1 [==============================] - 0s 2ms/step - loss: 3.4089 - mae: 3.4089\n",
      "Epoch 71/100\n",
      "1/1 [==============================] - 0s 2ms/step - loss: 3.5529 - mae: 3.5529\n",
      "Epoch 72/100\n",
      "1/1 [==============================] - 0s 4ms/step - loss: 3.4411 - mae: 3.4411\n",
      "Epoch 73/100\n",
      "1/1 [==============================] - 0s 2ms/step - loss: 3.4684 - mae: 3.4684\n",
      "Epoch 74/100\n",
      "1/1 [==============================] - 0s 1ms/step - loss: 3.4752 - mae: 3.4752\n",
      "Epoch 75/100\n",
      "1/1 [==============================] - 0s 2ms/step - loss: 3.3815 - mae: 3.3815\n",
      "Epoch 76/100\n",
      "1/1 [==============================] - 0s 1ms/step - loss: 3.5108 - mae: 3.5108\n",
      "Epoch 77/100\n",
      "1/1 [==============================] - 0s 2ms/step - loss: 3.3398 - mae: 3.3398\n",
      "Epoch 78/100\n",
      "1/1 [==============================] - 0s 2ms/step - loss: 3.4697 - mae: 3.4697\n",
      "Epoch 79/100\n",
      "1/1 [==============================] - 0s 3ms/step - loss: 3.4004 - mae: 3.4004\n",
      "Epoch 80/100\n",
      "1/1 [==============================] - 0s 2ms/step - loss: 3.3799 - mae: 3.3799\n",
      "Epoch 81/100\n",
      "1/1 [==============================] - 0s 2ms/step - loss: 3.4360 - mae: 3.4360\n",
      "Epoch 82/100\n",
      "1/1 [==============================] - 0s 1ms/step - loss: 3.2869 - mae: 3.2869\n",
      "Epoch 83/100\n",
      "1/1 [==============================] - 0s 2ms/step - loss: 3.4735 - mae: 3.4735\n",
      "Epoch 84/100\n",
      "1/1 [==============================] - 0s 2ms/step - loss: 3.2949 - mae: 3.2949\n",
      "Epoch 85/100\n",
      "1/1 [==============================] - 0s 3ms/step - loss: 3.3957 - mae: 3.3957\n",
      "Epoch 86/100\n",
      "1/1 [==============================] - 0s 2ms/step - loss: 3.3319 - mae: 3.3319\n",
      "Epoch 87/100\n",
      "1/1 [==============================] - 0s 3ms/step - loss: 3.2999 - mae: 3.2999\n",
      "Epoch 88/100\n",
      "1/1 [==============================] - 0s 2ms/step - loss: 3.3701 - mae: 3.3701\n",
      "Epoch 89/100\n",
      "1/1 [==============================] - 0s 3ms/step - loss: 3.2058 - mae: 3.2058\n",
      "Epoch 90/100\n",
      "1/1 [==============================] - 0s 3ms/step - loss: 3.4431 - mae: 3.4431\n",
      "Epoch 91/100\n",
      "1/1 [==============================] - 0s 2ms/step - loss: 3.2633 - mae: 3.2633\n",
      "Epoch 92/100\n",
      "1/1 [==============================] - 0s 2ms/step - loss: 3.2820 - mae: 3.2820\n",
      "Epoch 93/100\n",
      "1/1 [==============================] - 0s 2ms/step - loss: 3.3001 - mae: 3.3001\n",
      "Epoch 94/100\n",
      "1/1 [==============================] - 0s 2ms/step - loss: 3.1781 - mae: 3.1781\n",
      "Epoch 95/100\n",
      "1/1 [==============================] - 0s 2ms/step - loss: 3.3394 - mae: 3.3394\n",
      "Epoch 96/100\n",
      "1/1 [==============================] - 0s 3ms/step - loss: 3.1677 - mae: 3.1677\n",
      "Epoch 97/100\n",
      "1/1 [==============================] - 0s 2ms/step - loss: 3.2725 - mae: 3.2725\n",
      "Epoch 98/100\n",
      "1/1 [==============================] - 0s 1ms/step - loss: 3.2069 - mae: 3.2069\n",
      "Epoch 99/100\n",
      "1/1 [==============================] - 0s 1ms/step - loss: 3.1663 - mae: 3.1663\n",
      "Epoch 100/100\n",
      "1/1 [==============================] - 0s 2ms/step - loss: 3.2491 - mae: 3.2491\n",
      "1/1 [==============================] - 0s 35ms/step\n"
     ]
    },
    {
     "data": {
      "text/plain": "array([[31.208849]], dtype=float32)"
     },
     "execution_count": 30,
     "metadata": {},
     "output_type": "execute_result"
    }
   ],
   "source": [
    "\n",
    "# 1 create the model\n",
    "model = tf.keras.models.Sequential([\n",
    "    tf.keras.layers.Dense(100, activation=\"relu\"),  # 3 hidden layers. 100 neurons per hidden layer\n",
    "    tf.keras.layers.Dense(100, activation=\"relu\"),\n",
    "    tf.keras.layers.Dense(100, activation=\"relu\"),\n",
    "    tf.keras.layers.Dense(1)  # 1 because we have 1 number as input and one as output\n",
    "])\n",
    "\n",
    "# 2 compile the model\n",
    "model.compile(loss=tf.keras.losses.mae,  # mean absolute error is loss fn\n",
    "              optimizer=tf.keras.optimizers.SGD(),  # could use adam instead of SGD with Adam(learning_rate=0.0001). idk why we'd chose such a low rate\n",
    "              metrics=[\"mae\"])\n",
    "\n",
    "# 3 fitting the model\n",
    "model.fit(X, y, epochs=100)\n",
    "\n",
    "# make prediction\n",
    "model.predict([17])"
   ],
   "metadata": {
    "collapsed": false
   }
  },
  {
   "cell_type": "markdown",
   "source": [
    "# [Module 35 Improving a model part 3](https://youtu.be/tpCFfeUEGs8?t=18262)\n",
    "Changing the same model again. It's better to start with smaller changes.  It's also better to start with less complicated models which are fast to run and then tweak to make more complex (like adding more layers or epochs).\n",
    "\n",
    "Not every tweak to make it more complex helps. We might overfit by accident\n",
    "\n",
    "### Common ways to improve deep learning model:\n",
    "1. Adding layers\n",
    "2. Increase number of hidden units (neurons per layer)\n",
    "3. Change activation function (like \"relu\")\n",
    "4. Change optimization function (like SGD() or Adam())\n",
    "5. Change learning rate (tends to be the most important hyperparameter)\n",
    "6. Train on more data\n",
    "7. Fit for longer"
   ],
   "metadata": {
    "collapsed": false
   }
  },
  {
   "cell_type": "code",
   "execution_count": 36,
   "outputs": [
    {
     "name": "stdout",
     "output_type": "stream",
     "text": [
      "Epoch 1/100\n",
      "1/1 [==============================] - 0s 191ms/step - loss: 13.2601 - mae: 13.2601\n",
      "Epoch 2/100\n",
      "1/1 [==============================] - 0s 3ms/step - loss: 13.2243 - mae: 13.2243\n",
      "Epoch 3/100\n",
      "1/1 [==============================] - 0s 2ms/step - loss: 13.1884 - mae: 13.1884\n",
      "Epoch 4/100\n",
      "1/1 [==============================] - 0s 2ms/step - loss: 13.1504 - mae: 13.1504\n",
      "Epoch 5/100\n",
      "1/1 [==============================] - 0s 2ms/step - loss: 13.1124 - mae: 13.1124\n",
      "Epoch 6/100\n",
      "1/1 [==============================] - 0s 2ms/step - loss: 13.0761 - mae: 13.0761\n",
      "Epoch 7/100\n",
      "1/1 [==============================] - 0s 1ms/step - loss: 13.0402 - mae: 13.0402\n",
      "Epoch 8/100\n",
      "1/1 [==============================] - 0s 1ms/step - loss: 13.0043 - mae: 13.0043\n",
      "Epoch 9/100\n",
      "1/1 [==============================] - 0s 2ms/step - loss: 12.9682 - mae: 12.9682\n",
      "Epoch 10/100\n",
      "1/1 [==============================] - 0s 2ms/step - loss: 12.9320 - mae: 12.9320\n",
      "Epoch 11/100\n",
      "1/1 [==============================] - 0s 1ms/step - loss: 12.8955 - mae: 12.8955\n",
      "Epoch 12/100\n",
      "1/1 [==============================] - 0s 2ms/step - loss: 12.8588 - mae: 12.8588\n",
      "Epoch 13/100\n",
      "1/1 [==============================] - 0s 2ms/step - loss: 12.8219 - mae: 12.8219\n",
      "Epoch 14/100\n",
      "1/1 [==============================] - 0s 1ms/step - loss: 12.7843 - mae: 12.7843\n",
      "Epoch 15/100\n",
      "1/1 [==============================] - 0s 1ms/step - loss: 12.7461 - mae: 12.7461\n",
      "Epoch 16/100\n",
      "1/1 [==============================] - 0s 1ms/step - loss: 12.7075 - mae: 12.7075\n",
      "Epoch 17/100\n",
      "1/1 [==============================] - 0s 2ms/step - loss: 12.6687 - mae: 12.6687\n",
      "Epoch 18/100\n",
      "1/1 [==============================] - 0s 2ms/step - loss: 12.6302 - mae: 12.6302\n",
      "Epoch 19/100\n",
      "1/1 [==============================] - 0s 2ms/step - loss: 12.5919 - mae: 12.5919\n",
      "Epoch 20/100\n",
      "1/1 [==============================] - 0s 3ms/step - loss: 12.5532 - mae: 12.5532\n",
      "Epoch 21/100\n",
      "1/1 [==============================] - 0s 2ms/step - loss: 12.5141 - mae: 12.5141\n",
      "Epoch 22/100\n",
      "1/1 [==============================] - 0s 2ms/step - loss: 12.4746 - mae: 12.4746\n",
      "Epoch 23/100\n",
      "1/1 [==============================] - 0s 2ms/step - loss: 12.4350 - mae: 12.4350\n",
      "Epoch 24/100\n",
      "1/1 [==============================] - 0s 2ms/step - loss: 12.3950 - mae: 12.3950\n",
      "Epoch 25/100\n",
      "1/1 [==============================] - 0s 2ms/step - loss: 12.3546 - mae: 12.3546\n",
      "Epoch 26/100\n",
      "1/1 [==============================] - 0s 4ms/step - loss: 12.3133 - mae: 12.3133\n",
      "Epoch 27/100\n",
      "1/1 [==============================] - 0s 2ms/step - loss: 12.2699 - mae: 12.2699\n",
      "Epoch 28/100\n",
      "1/1 [==============================] - 0s 2ms/step - loss: 12.2260 - mae: 12.2260\n",
      "Epoch 29/100\n",
      "1/1 [==============================] - 0s 2ms/step - loss: 12.1814 - mae: 12.1814\n",
      "Epoch 30/100\n",
      "1/1 [==============================] - 0s 1ms/step - loss: 12.1365 - mae: 12.1365\n",
      "Epoch 31/100\n",
      "1/1 [==============================] - 0s 2ms/step - loss: 12.0911 - mae: 12.0911\n",
      "Epoch 32/100\n",
      "1/1 [==============================] - 0s 2ms/step - loss: 12.0450 - mae: 12.0450\n",
      "Epoch 33/100\n",
      "1/1 [==============================] - 0s 2ms/step - loss: 11.9987 - mae: 11.9987\n",
      "Epoch 34/100\n",
      "1/1 [==============================] - 0s 2ms/step - loss: 11.9518 - mae: 11.9518\n",
      "Epoch 35/100\n",
      "1/1 [==============================] - 0s 1ms/step - loss: 11.9050 - mae: 11.9050\n",
      "Epoch 36/100\n",
      "1/1 [==============================] - 0s 1ms/step - loss: 11.8575 - mae: 11.8575\n",
      "Epoch 37/100\n",
      "1/1 [==============================] - 0s 2ms/step - loss: 11.8096 - mae: 11.8096\n",
      "Epoch 38/100\n",
      "1/1 [==============================] - 0s 2ms/step - loss: 11.7614 - mae: 11.7614\n",
      "Epoch 39/100\n",
      "1/1 [==============================] - 0s 2ms/step - loss: 11.7128 - mae: 11.7128\n",
      "Epoch 40/100\n",
      "1/1 [==============================] - 0s 2ms/step - loss: 11.6634 - mae: 11.6634\n",
      "Epoch 41/100\n",
      "1/1 [==============================] - 0s 2ms/step - loss: 11.6133 - mae: 11.6133\n",
      "Epoch 42/100\n",
      "1/1 [==============================] - 0s 1ms/step - loss: 11.5624 - mae: 11.5624\n",
      "Epoch 43/100\n",
      "1/1 [==============================] - 0s 1ms/step - loss: 11.5111 - mae: 11.5111\n",
      "Epoch 44/100\n",
      "1/1 [==============================] - 0s 1ms/step - loss: 11.4597 - mae: 11.4597\n",
      "Epoch 45/100\n",
      "1/1 [==============================] - 0s 2ms/step - loss: 11.4078 - mae: 11.4078\n",
      "Epoch 46/100\n",
      "1/1 [==============================] - 0s 2ms/step - loss: 11.3566 - mae: 11.3566\n",
      "Epoch 47/100\n",
      "1/1 [==============================] - 0s 3ms/step - loss: 11.3047 - mae: 11.3047\n",
      "Epoch 48/100\n",
      "1/1 [==============================] - 0s 2ms/step - loss: 11.2518 - mae: 11.2518\n",
      "Epoch 49/100\n",
      "1/1 [==============================] - 0s 2ms/step - loss: 11.1979 - mae: 11.1979\n",
      "Epoch 50/100\n",
      "1/1 [==============================] - 0s 2ms/step - loss: 11.1430 - mae: 11.1430\n",
      "Epoch 51/100\n",
      "1/1 [==============================] - 0s 2ms/step - loss: 11.0871 - mae: 11.0871\n",
      "Epoch 52/100\n",
      "1/1 [==============================] - 0s 2ms/step - loss: 11.0302 - mae: 11.0302\n",
      "Epoch 53/100\n",
      "1/1 [==============================] - 0s 2ms/step - loss: 10.9720 - mae: 10.9720\n",
      "Epoch 54/100\n",
      "1/1 [==============================] - 0s 3ms/step - loss: 10.9127 - mae: 10.9127\n",
      "Epoch 55/100\n",
      "1/1 [==============================] - 0s 2ms/step - loss: 10.8523 - mae: 10.8523\n",
      "Epoch 56/100\n",
      "1/1 [==============================] - 0s 1ms/step - loss: 10.7909 - mae: 10.7909\n",
      "Epoch 57/100\n",
      "1/1 [==============================] - 0s 1ms/step - loss: 10.7285 - mae: 10.7285\n",
      "Epoch 58/100\n",
      "1/1 [==============================] - 0s 1ms/step - loss: 10.6647 - mae: 10.6647\n",
      "Epoch 59/100\n",
      "1/1 [==============================] - 0s 1ms/step - loss: 10.5994 - mae: 10.5994\n",
      "Epoch 60/100\n",
      "1/1 [==============================] - 0s 1ms/step - loss: 10.5328 - mae: 10.5328\n",
      "Epoch 61/100\n",
      "1/1 [==============================] - 0s 2ms/step - loss: 10.4646 - mae: 10.4646\n",
      "Epoch 62/100\n",
      "1/1 [==============================] - 0s 2ms/step - loss: 10.3947 - mae: 10.3947\n",
      "Epoch 63/100\n",
      "1/1 [==============================] - 0s 2ms/step - loss: 10.3232 - mae: 10.3232\n",
      "Epoch 64/100\n",
      "1/1 [==============================] - 0s 2ms/step - loss: 10.2500 - mae: 10.2500\n",
      "Epoch 65/100\n",
      "1/1 [==============================] - 0s 2ms/step - loss: 10.1748 - mae: 10.1748\n",
      "Epoch 66/100\n",
      "1/1 [==============================] - 0s 1ms/step - loss: 10.0978 - mae: 10.0978\n",
      "Epoch 67/100\n",
      "1/1 [==============================] - 0s 1ms/step - loss: 10.0189 - mae: 10.0189\n",
      "Epoch 68/100\n",
      "1/1 [==============================] - 0s 2ms/step - loss: 9.9376 - mae: 9.9376\n",
      "Epoch 69/100\n",
      "1/1 [==============================] - 0s 2ms/step - loss: 9.8542 - mae: 9.8542\n",
      "Epoch 70/100\n",
      "1/1 [==============================] - 0s 2ms/step - loss: 9.7687 - mae: 9.7687\n",
      "Epoch 71/100\n",
      "1/1 [==============================] - 0s 2ms/step - loss: 9.6811 - mae: 9.6811\n",
      "Epoch 72/100\n",
      "1/1 [==============================] - 0s 2ms/step - loss: 9.5911 - mae: 9.5911\n",
      "Epoch 73/100\n",
      "1/1 [==============================] - 0s 2ms/step - loss: 9.4988 - mae: 9.4988\n",
      "Epoch 74/100\n",
      "1/1 [==============================] - 0s 2ms/step - loss: 9.4042 - mae: 9.4042\n",
      "Epoch 75/100\n",
      "1/1 [==============================] - 0s 2ms/step - loss: 9.3071 - mae: 9.3071\n",
      "Epoch 76/100\n",
      "1/1 [==============================] - 0s 3ms/step - loss: 9.2074 - mae: 9.2074\n",
      "Epoch 77/100\n",
      "1/1 [==============================] - 0s 2ms/step - loss: 9.1046 - mae: 9.1046\n",
      "Epoch 78/100\n",
      "1/1 [==============================] - 0s 2ms/step - loss: 8.9990 - mae: 8.9990\n",
      "Epoch 79/100\n",
      "1/1 [==============================] - 0s 2ms/step - loss: 8.8903 - mae: 8.8903\n",
      "Epoch 80/100\n",
      "1/1 [==============================] - 0s 2ms/step - loss: 8.7782 - mae: 8.7782\n",
      "Epoch 81/100\n",
      "1/1 [==============================] - 0s 1ms/step - loss: 8.6628 - mae: 8.6628\n",
      "Epoch 82/100\n",
      "1/1 [==============================] - 0s 2ms/step - loss: 8.5443 - mae: 8.5443\n",
      "Epoch 83/100\n",
      "1/1 [==============================] - 0s 3ms/step - loss: 8.4219 - mae: 8.4219\n",
      "Epoch 84/100\n",
      "1/1 [==============================] - 0s 2ms/step - loss: 8.2959 - mae: 8.2959\n",
      "Epoch 85/100\n",
      "1/1 [==============================] - 0s 2ms/step - loss: 8.1659 - mae: 8.1659\n",
      "Epoch 86/100\n",
      "1/1 [==============================] - 0s 2ms/step - loss: 8.0303 - mae: 8.0303\n",
      "Epoch 87/100\n",
      "1/1 [==============================] - 0s 2ms/step - loss: 7.8894 - mae: 7.8894\n",
      "Epoch 88/100\n",
      "1/1 [==============================] - 0s 1ms/step - loss: 7.7441 - mae: 7.7441\n",
      "Epoch 89/100\n",
      "1/1 [==============================] - 0s 2ms/step - loss: 7.5938 - mae: 7.5938\n",
      "Epoch 90/100\n",
      "1/1 [==============================] - 0s 1ms/step - loss: 7.4389 - mae: 7.4389\n",
      "Epoch 91/100\n",
      "1/1 [==============================] - 0s 2ms/step - loss: 7.2786 - mae: 7.2786\n",
      "Epoch 92/100\n",
      "1/1 [==============================] - 0s 2ms/step - loss: 7.1144 - mae: 7.1144\n",
      "Epoch 93/100\n",
      "1/1 [==============================] - 0s 2ms/step - loss: 6.9647 - mae: 6.9647\n",
      "Epoch 94/100\n",
      "1/1 [==============================] - 0s 2ms/step - loss: 6.8098 - mae: 6.8098\n",
      "Epoch 95/100\n",
      "1/1 [==============================] - 0s 2ms/step - loss: 6.6498 - mae: 6.6498\n",
      "Epoch 96/100\n",
      "1/1 [==============================] - 0s 2ms/step - loss: 6.4841 - mae: 6.4841\n",
      "Epoch 97/100\n",
      "1/1 [==============================] - 0s 3ms/step - loss: 6.3125 - mae: 6.3125\n",
      "Epoch 98/100\n",
      "1/1 [==============================] - 0s 4ms/step - loss: 6.1343 - mae: 6.1343\n",
      "Epoch 99/100\n",
      "1/1 [==============================] - 0s 2ms/step - loss: 5.9496 - mae: 5.9496\n",
      "Epoch 100/100\n",
      "1/1 [==============================] - 0s 1ms/step - loss: 5.7579 - mae: 5.7579\n",
      "1/1 [==============================] - 0s 33ms/step\n"
     ]
    },
    {
     "data": {
      "text/plain": "array([[24.329931]], dtype=float32)"
     },
     "execution_count": 36,
     "metadata": {},
     "output_type": "execute_result"
    }
   ],
   "source": [
    "# 1 create the model\n",
    "model = tf.keras.models.Sequential([\n",
    "    tf.keras.layers.Dense(100, activation=\"relu\"),  # 3 hidden layers. 100 neurons per hidden layer\n",
    "    tf.keras.layers.Dense(100, activation=\"relu\"),\n",
    "    tf.keras.layers.Dense(100, activation=\"relu\"),\n",
    "    tf.keras.layers.Dense(1)  # 1 because we have 1 number as input and one as output\n",
    "])\n",
    "\n",
    "# 2 compile the model\n",
    "model.compile(loss=tf.keras.losses.mae,  # mean absolute error is loss fn\n",
    "              optimizer=tf.keras.optimizers.SGD(learning_rate=0.001),  # could use adam instead of SGD with Adam(learning_rate=0.0001). idk why we'd chose such a low rate\n",
    "              metrics=[\"mae\"])\n",
    "\n",
    "# 3 fitting the model\n",
    "model.fit(X, y, epochs=100)\n",
    "\n",
    "# make prediction\n",
    "model.predict([17])\n"
   ],
   "metadata": {
    "collapsed": false
   }
  },
  {
   "cell_type": "markdown",
   "source": [
    "# [Module 36 evaluating a model part 1: visualizations](https://youtu.be/tpCFfeUEGs8?t=19015)\n",
    "\n",
    "### Typical workflow when building neural networks:\n",
    "1. Build model\n",
    "2. Fit it\n",
    "3. Evaluate it\n",
    "4. Tweak it\n",
    "5. Repeat\n",
    "\n",
    "### What should we visualize when evaluating:\n",
    "- The data we're working with\n",
    "- The model itself (what does the model look like)\n",
    "- The training of a model (how does the model perform while it learns)\n",
    "- The predictions of the model, and how do they line up with the real answer"
   ],
   "metadata": {
    "collapsed": false
   }
  },
  {
   "cell_type": "code",
   "execution_count": 2,
   "outputs": [
    {
     "data": {
      "text/plain": "<matplotlib.collections.PathCollection at 0x166094460>"
     },
     "execution_count": 2,
     "metadata": {},
     "output_type": "execute_result"
    },
    {
     "data": {
      "text/plain": "<Figure size 640x480 with 1 Axes>",
      "image/png": "[encoded data removed]"
     },
     "metadata": {},
     "output_type": "display_data"
    }
   ],
   "source": [
    "# make larger dataset\n",
    "X = tf.range(-100, 100, 4)\n",
    "y = X + 10\n",
    "\n",
    "plt.scatter(X, y)"
   ],
   "metadata": {
    "collapsed": false
   }
  },
  {
   "cell_type": "markdown",
   "source": [
    "\n",
    "# [Module 37 evaluating a model part 2: the datasets](https://youtu.be/tpCFfeUEGs8?t=19460)\n",
    "\n",
    "### The sets of data and how we split it up\n",
    "1. Training dataset 70-80%\n",
    "2. Validation dataset (where we tweak hyperparameters) 10-15%  (sometimes optional)\n",
    "3. Test set"
   ],
   "metadata": {
    "collapsed": false
   }
  },
  {
   "cell_type": "code",
   "execution_count": 3,
   "outputs": [
    {
     "data": {
      "text/plain": "<Figure size 640x480 with 1 Axes>",
      "image/png": "[encoded data removed]"
     },
     "metadata": {},
     "output_type": "display_data"
    }
   ],
   "source": [
    "# we'll skip the validation set for now\n",
    "\n",
    "# train test split:\n",
    "X_train, X_test = X[:40], X[40:]\n",
    "y_train, y_test = y[:40], y[40:]\n",
    "\n",
    "# visualizing the data\n",
    "plt.scatter(X_train, y_train, c=\"blue\", label=\"Training data\")  # plot training data in blue\n",
    "plt.scatter(X_test, y_test, c=\"green\", label=\"Testing data\") # plot training data in green\n",
    "plt.legend()\n",
    "plt.show()"
   ],
   "metadata": {
    "collapsed": false
   }
  },
  {
   "cell_type": "markdown",
   "source": [
    "# [Module 38 evaluating a model part 3: model summary](https://youtu.be/tpCFfeUEGs8?t=20122)\n",
    "let's build a neural network for our data"
   ],
   "metadata": {
    "collapsed": false
   }
  },
  {
   "cell_type": "code",
   "execution_count": 59,
   "outputs": [],
   "source": [
    "tf.random.set_seed(42)\n",
    "# 1 create a model\n",
    "model = tf.keras.Sequential([\n",
    "    tf.keras.layers.Dense(10, input_shape=[1], name=\"input_layer\"),\n",
    "    # tf.keras.layers.Dense(100, input_shape=[1], name=\"uh\"),\n",
    "    tf.keras.layers.Dense(1, input_shape=[1], name=\"output_layer\")  # input shape is 1 because X is one input to give one output\n",
    "], name=\"module_38_model\")\n",
    "# 2 compile\n",
    "model.compile(loss=tf.keras.losses.mae,\n",
    "              optimizer=tf.keras.optimizers.SGD(),\n",
    "              metrics=[\"mae\"])"
   ],
   "metadata": {
    "collapsed": false
   }
  },
  {
   "cell_type": "code",
   "execution_count": 60,
   "outputs": [
    {
     "name": "stdout",
     "output_type": "stream",
     "text": [
      "Model: \"module_38_model\"\n",
      "_________________________________________________________________\n",
      " Layer (type)                Output Shape              Param #   \n",
      "=================================================================\n",
      " input_layer (Dense)         (None, 10)                20        \n",
      "                                                                 \n",
      " output_layer (Dense)        (None, 1)                 11        \n",
      "                                                                 \n",
      "=================================================================\n",
      "Total params: 31\n",
      "Trainable params: 31\n",
      "Non-trainable params: 0\n",
      "_________________________________________________________________\n"
     ]
    }
   ],
   "source": [
    "# visualize model before we fit it. we need to determine input_shape\n",
    "model.build()\n",
    "model.summary()"
   ],
   "metadata": {
    "collapsed": false
   }
  },
  {
   "cell_type": "markdown",
   "source": [
    "### model.summary() explanation\n",
    "\n",
    "- total params: total number of parameters in the model. this one is 2 because it's learning relationship between X and y\n",
    "- trainable parameters:\n",
    "- non-trainable params aren't updated during training. Used in already learned patterns/parameters from already learned models you import in tansfer learning"
   ],
   "metadata": {
    "collapsed": false
   }
  },
  {
   "cell_type": "code",
   "execution_count": 61,
   "outputs": [
    {
     "name": "stdout",
     "output_type": "stream",
     "text": [
      "Epoch 1/100\n",
      "2/2 [==============================] - 0s 2ms/step - loss: 17.5051 - mae: 17.5051\n",
      "Epoch 2/100\n",
      "2/2 [==============================] - 0s 1ms/step - loss: 27.6223 - mae: 27.6223\n",
      "Epoch 3/100\n",
      "2/2 [==============================] - 0s 1ms/step - loss: 31.2000 - mae: 31.2000\n",
      "Epoch 4/100\n",
      "2/2 [==============================] - 0s 1ms/step - loss: 16.8919 - mae: 16.8919\n",
      "Epoch 5/100\n",
      "2/2 [==============================] - 0s 1ms/step - loss: 23.0515 - mae: 23.0515\n",
      "Epoch 6/100\n",
      "2/2 [==============================] - 0s 1ms/step - loss: 10.9046 - mae: 10.9046\n",
      "Epoch 7/100\n",
      "2/2 [==============================] - 0s 1ms/step - loss: 11.9422 - mae: 11.9422\n",
      "Epoch 8/100\n",
      "2/2 [==============================] - 0s 1ms/step - loss: 13.0135 - mae: 13.0135\n",
      "Epoch 9/100\n",
      "2/2 [==============================] - 0s 1ms/step - loss: 34.3622 - mae: 34.3622\n",
      "Epoch 10/100\n",
      "2/2 [==============================] - 0s 1ms/step - loss: 23.7757 - mae: 23.7757\n",
      "Epoch 11/100\n",
      "2/2 [==============================] - 0s 1ms/step - loss: 11.8615 - mae: 11.8615\n",
      "Epoch 12/100\n",
      "2/2 [==============================] - 0s 1ms/step - loss: 23.8416 - mae: 23.8416\n",
      "Epoch 13/100\n",
      "2/2 [==============================] - 0s 1ms/step - loss: 20.7837 - mae: 20.7837\n",
      "Epoch 14/100\n",
      "2/2 [==============================] - 0s 1ms/step - loss: 23.1549 - mae: 23.1549\n",
      "Epoch 15/100\n",
      "2/2 [==============================] - 0s 1ms/step - loss: 15.0742 - mae: 15.0742\n",
      "Epoch 16/100\n",
      "2/2 [==============================] - 0s 1ms/step - loss: 11.2737 - mae: 11.2737\n",
      "Epoch 17/100\n",
      "2/2 [==============================] - 0s 1ms/step - loss: 22.9148 - mae: 22.9148\n",
      "Epoch 18/100\n",
      "2/2 [==============================] - 0s 1ms/step - loss: 11.3152 - mae: 11.3152\n",
      "Epoch 19/100\n",
      "2/2 [==============================] - 0s 1ms/step - loss: 13.8600 - mae: 13.8600\n",
      "Epoch 20/100\n",
      "2/2 [==============================] - 0s 2ms/step - loss: 11.1663 - mae: 11.1663\n",
      "Epoch 21/100\n",
      "2/2 [==============================] - 0s 1ms/step - loss: 17.1716 - mae: 17.1716\n",
      "Epoch 22/100\n",
      "2/2 [==============================] - 0s 1ms/step - loss: 15.4105 - mae: 15.4105\n",
      "Epoch 23/100\n",
      "2/2 [==============================] - 0s 1ms/step - loss: 9.2505 - mae: 9.2505\n",
      "Epoch 24/100\n",
      "2/2 [==============================] - 0s 1ms/step - loss: 17.3088 - mae: 17.3088\n",
      "Epoch 25/100\n",
      "2/2 [==============================] - 0s 1ms/step - loss: 15.9708 - mae: 15.9708\n",
      "Epoch 26/100\n",
      "2/2 [==============================] - 0s 1ms/step - loss: 21.0029 - mae: 21.0029\n",
      "Epoch 27/100\n",
      "2/2 [==============================] - 0s 2ms/step - loss: 25.8029 - mae: 25.8029\n",
      "Epoch 28/100\n",
      "2/2 [==============================] - 0s 1ms/step - loss: 18.3225 - mae: 18.3225\n",
      "Epoch 29/100\n",
      "2/2 [==============================] - 0s 1ms/step - loss: 9.2413 - mae: 9.2413\n",
      "Epoch 30/100\n",
      "2/2 [==============================] - 0s 1ms/step - loss: 28.9263 - mae: 28.9263\n",
      "Epoch 31/100\n",
      "2/2 [==============================] - 0s 1ms/step - loss: 52.3736 - mae: 52.3736\n",
      "Epoch 32/100\n",
      "2/2 [==============================] - 0s 2ms/step - loss: 11.8662 - mae: 11.8662\n",
      "Epoch 33/100\n",
      "2/2 [==============================] - 0s 2ms/step - loss: 15.4159 - mae: 15.4159\n",
      "Epoch 34/100\n",
      "2/2 [==============================] - 0s 2ms/step - loss: 12.5412 - mae: 12.5412\n",
      "Epoch 35/100\n",
      "2/2 [==============================] - 0s 1ms/step - loss: 9.1728 - mae: 9.1728\n",
      "Epoch 36/100\n",
      "2/2 [==============================] - 0s 1ms/step - loss: 16.3763 - mae: 16.3763\n",
      "Epoch 37/100\n",
      "2/2 [==============================] - 0s 1ms/step - loss: 11.1140 - mae: 11.1140\n",
      "Epoch 38/100\n",
      "2/2 [==============================] - 0s 1ms/step - loss: 18.2458 - mae: 18.2458\n",
      "Epoch 39/100\n",
      "2/2 [==============================] - 0s 1ms/step - loss: 19.1744 - mae: 19.1744\n",
      "Epoch 40/100\n",
      "2/2 [==============================] - 0s 1ms/step - loss: 20.5645 - mae: 20.5645\n",
      "Epoch 41/100\n",
      "2/2 [==============================] - 0s 2ms/step - loss: 14.7459 - mae: 14.7459\n",
      "Epoch 42/100\n",
      "2/2 [==============================] - 0s 2ms/step - loss: 12.1573 - mae: 12.1573\n",
      "Epoch 43/100\n",
      "2/2 [==============================] - 0s 2ms/step - loss: 10.6768 - mae: 10.6768\n",
      "Epoch 44/100\n",
      "2/2 [==============================] - 0s 1ms/step - loss: 32.1084 - mae: 32.1084\n",
      "Epoch 45/100\n",
      "2/2 [==============================] - 0s 2ms/step - loss: 12.4261 - mae: 12.4261\n",
      "Epoch 46/100\n",
      "2/2 [==============================] - 0s 1ms/step - loss: 17.3932 - mae: 17.3932\n",
      "Epoch 47/100\n",
      "2/2 [==============================] - 0s 1ms/step - loss: 15.8017 - mae: 15.8017\n",
      "Epoch 48/100\n",
      "2/2 [==============================] - 0s 1ms/step - loss: 8.4036 - mae: 8.4036\n",
      "Epoch 49/100\n",
      "2/2 [==============================] - 0s 1ms/step - loss: 14.2579 - mae: 14.2579\n",
      "Epoch 50/100\n",
      "2/2 [==============================] - 0s 1ms/step - loss: 15.1884 - mae: 15.1884\n",
      "Epoch 51/100\n",
      "2/2 [==============================] - 0s 2ms/step - loss: 13.7005 - mae: 13.7005\n",
      "Epoch 52/100\n",
      "2/2 [==============================] - 0s 1ms/step - loss: 18.1140 - mae: 18.1140\n",
      "Epoch 53/100\n",
      "2/2 [==============================] - 0s 1ms/step - loss: 22.7822 - mae: 22.7822\n",
      "Epoch 54/100\n",
      "2/2 [==============================] - 0s 1ms/step - loss: 26.7741 - mae: 26.7741\n",
      "Epoch 55/100\n",
      "2/2 [==============================] - 0s 1ms/step - loss: 26.4047 - mae: 26.4047\n",
      "Epoch 56/100\n",
      "2/2 [==============================] - 0s 1ms/step - loss: 11.3511 - mae: 11.3511\n",
      "Epoch 57/100\n",
      "2/2 [==============================] - 0s 2ms/step - loss: 13.3706 - mae: 13.3706\n",
      "Epoch 58/100\n",
      "2/2 [==============================] - 0s 2ms/step - loss: 9.9555 - mae: 9.9555\n",
      "Epoch 59/100\n",
      "2/2 [==============================] - 0s 1ms/step - loss: 13.9218 - mae: 13.9218\n",
      "Epoch 60/100\n",
      "2/2 [==============================] - 0s 973us/step - loss: 9.9972 - mae: 9.9972\n",
      "Epoch 61/100\n",
      "2/2 [==============================] - 0s 1ms/step - loss: 14.9759 - mae: 14.9759\n",
      "Epoch 62/100\n",
      "2/2 [==============================] - 0s 1ms/step - loss: 11.9311 - mae: 11.9311\n",
      "Epoch 63/100\n",
      "2/2 [==============================] - 0s 1ms/step - loss: 10.2920 - mae: 10.2920\n",
      "Epoch 64/100\n",
      "2/2 [==============================] - 0s 2ms/step - loss: 23.8846 - mae: 23.8846\n",
      "Epoch 65/100\n",
      "2/2 [==============================] - 0s 2ms/step - loss: 10.4684 - mae: 10.4684\n",
      "Epoch 66/100\n",
      "2/2 [==============================] - 0s 1ms/step - loss: 20.9299 - mae: 20.9299\n",
      "Epoch 67/100\n",
      "2/2 [==============================] - 0s 1ms/step - loss: 10.4453 - mae: 10.4453\n",
      "Epoch 68/100\n",
      "2/2 [==============================] - 0s 1ms/step - loss: 14.1742 - mae: 14.1742\n",
      "Epoch 69/100\n",
      "2/2 [==============================] - 0s 1ms/step - loss: 10.5150 - mae: 10.5150\n",
      "Epoch 70/100\n",
      "2/2 [==============================] - 0s 1ms/step - loss: 12.5858 - mae: 12.5858\n",
      "Epoch 71/100\n",
      "2/2 [==============================] - 0s 2ms/step - loss: 13.0143 - mae: 13.0143\n",
      "Epoch 72/100\n",
      "2/2 [==============================] - 0s 1ms/step - loss: 19.3500 - mae: 19.3500\n",
      "Epoch 73/100\n",
      "2/2 [==============================] - 0s 1ms/step - loss: 11.1303 - mae: 11.1303\n",
      "Epoch 74/100\n",
      "2/2 [==============================] - 0s 1ms/step - loss: 21.4324 - mae: 21.4324\n",
      "Epoch 75/100\n",
      "2/2 [==============================] - 0s 1ms/step - loss: 9.4596 - mae: 9.4596\n",
      "Epoch 76/100\n",
      "2/2 [==============================] - 0s 1ms/step - loss: 12.2819 - mae: 12.2819\n",
      "Epoch 77/100\n",
      "2/2 [==============================] - 0s 959us/step - loss: 16.3099 - mae: 16.3099\n",
      "Epoch 78/100\n",
      "2/2 [==============================] - 0s 2ms/step - loss: 9.0113 - mae: 9.0113\n",
      "Epoch 79/100\n",
      "2/2 [==============================] - 0s 2ms/step - loss: 23.5516 - mae: 23.5516\n",
      "Epoch 80/100\n",
      "2/2 [==============================] - 0s 2ms/step - loss: 26.2447 - mae: 26.2447\n",
      "Epoch 81/100\n",
      "2/2 [==============================] - 0s 1ms/step - loss: 11.4365 - mae: 11.4365\n",
      "Epoch 82/100\n",
      "2/2 [==============================] - 0s 1ms/step - loss: 12.4492 - mae: 12.4492\n",
      "Epoch 83/100\n",
      "2/2 [==============================] - 0s 2ms/step - loss: 17.1182 - mae: 17.1182\n",
      "Epoch 84/100\n",
      "2/2 [==============================] - 0s 1ms/step - loss: 7.2643 - mae: 7.2643\n",
      "Epoch 85/100\n",
      "2/2 [==============================] - 0s 1ms/step - loss: 37.1417 - mae: 37.1417\n",
      "Epoch 86/100\n",
      "2/2 [==============================] - 0s 1ms/step - loss: 21.1697 - mae: 21.1697\n",
      "Epoch 87/100\n",
      "2/2 [==============================] - 0s 1ms/step - loss: 11.0191 - mae: 11.0191\n",
      "Epoch 88/100\n",
      "2/2 [==============================] - 0s 2ms/step - loss: 24.8966 - mae: 24.8966\n",
      "Epoch 89/100\n",
      "2/2 [==============================] - 0s 2ms/step - loss: 9.6612 - mae: 9.6612\n",
      "Epoch 90/100\n",
      "2/2 [==============================] - 0s 1ms/step - loss: 18.8951 - mae: 18.8951\n",
      "Epoch 91/100\n",
      "2/2 [==============================] - 0s 1ms/step - loss: 10.5124 - mae: 10.5124\n",
      "Epoch 92/100\n",
      "2/2 [==============================] - 0s 1ms/step - loss: 18.1314 - mae: 18.1314\n",
      "Epoch 93/100\n",
      "2/2 [==============================] - 0s 956us/step - loss: 6.5523 - mae: 6.5523\n",
      "Epoch 94/100\n",
      "2/2 [==============================] - 0s 2ms/step - loss: 11.1691 - mae: 11.1691\n",
      "Epoch 95/100\n",
      "2/2 [==============================] - 0s 1ms/step - loss: 24.5608 - mae: 24.5608\n",
      "Epoch 96/100\n",
      "2/2 [==============================] - 0s 1ms/step - loss: 10.7780 - mae: 10.7780\n",
      "Epoch 97/100\n",
      "2/2 [==============================] - 0s 1ms/step - loss: 15.4852 - mae: 15.4852\n",
      "Epoch 98/100\n",
      "2/2 [==============================] - 0s 1ms/step - loss: 9.0458 - mae: 9.0458\n",
      "Epoch 99/100\n",
      "2/2 [==============================] - 0s 1ms/step - loss: 10.8647 - mae: 10.8647\n",
      "Epoch 100/100\n",
      "2/2 [==============================] - 0s 1ms/step - loss: 27.0731 - mae: 27.0731\n"
     ]
    },
    {
     "data": {
      "text/plain": "<keras.callbacks.History at 0x1788fb670>"
     },
     "execution_count": 61,
     "metadata": {},
     "output_type": "execute_result"
    }
   ],
   "source": [
    "# 3 fit model\n",
    "model.fit(X_train, y_train, epochs=100) # verbose=0 to leave out progress bars"
   ],
   "metadata": {
    "collapsed": false
   }
  },
  {
   "cell_type": "markdown",
   "source": [
    "# [Module 39 evaluating a model part 4: visualizing layers](https://youtu.be/tpCFfeUEGs8?t=21159)\n",
    "\n",
    "This doesn't work at all. I don't know why. I wonder if it's a problem with my M1 computer. installing pydot and graphviz didn't help"
   ],
   "metadata": {
    "collapsed": false
   }
  },
  {
   "cell_type": "code",
   "execution_count": 10,
   "outputs": [
    {
     "name": "stdout",
     "output_type": "stream",
     "text": [
      "3\n",
      "You must install pydot (`pip install pydot`) and install graphviz (see instructions at https://graphviz.gitlab.io/download/) for plot_model to work.\n"
     ]
    }
   ],
   "source": [
    "# from tensorflow.keras.utils import plot_model\n",
    "# plot_model(model=model)\n"
   ],
   "metadata": {
    "collapsed": false
   }
  },
  {
   "cell_type": "markdown",
   "source": [
    " # [Module 40 evaluating a model part 5: visualizing predictions](https://youtu.be/tpCFfeUEGs8?t=21596)\n",
    "\n",
    "Plot predictions against ground truth labels. Usually y_test vs y_pred"
   ],
   "metadata": {
    "collapsed": false
   }
  },
  {
   "cell_type": "code",
   "execution_count": 62,
   "outputs": [
    {
     "name": "stdout",
     "output_type": "stream",
     "text": [
      "1/1 [==============================] - 0s 26ms/step\n",
      "tf.Tensor([ 70  74  78  82  86  90  94  98 102 106], shape=(10,), dtype=int32)\n"
     ]
    }
   ],
   "source": [
    "# make predictions\n",
    "predications = model.predict(X_test)\n",
    "print(y_test)"
   ],
   "metadata": {
    "collapsed": false
   }
  },
  {
   "cell_type": "code",
   "execution_count": 12,
   "outputs": [],
   "source": [
    "# make plotting function we can use going forward\n",
    "def plot_predictions(train_data, train_labels, test_data, test_labels, predictions):\n",
    "    plt.figure(figsize=(10, 7))\n",
    "    plt.scatter(train_data, train_labels, c=\"blue\", label=\"Training Data\")\n",
    "    plt.scatter(test_data, test_labels, c=\"green\", label=\"Testing Data\")\n",
    "    plt.scatter(test_data, predictions, c=\"red\", label=\"Predictions\")\n",
    "    plt.legend()\n",
    "    plt.show()\n"
   ],
   "metadata": {
    "collapsed": false
   }
  },
  {
   "cell_type": "code",
   "execution_count": null,
   "outputs": [],
   "source": [
    "plot_predictions(X_train, y_train, X_test, y_test, predications)"
   ],
   "metadata": {
    "collapsed": false
   }
  },
  {
   "cell_type": "markdown",
   "source": [
    " # [Module 41 evaluating a model part 6: regression evaluation metrics](https://youtu.be/tpCFfeUEGs8?t=21596)\n",
    "\n",
    "### Evaluating metrics depends on the type of problem we're dealing with\n",
    "Main ones for regression:\n",
    "1. MAE: on average, how wrong are my model's predictions. Generally appropriate for most things\n",
    "2. MSE: mean square errors. Appropriate when larger errors are more significant than smaller ones.\n",
    "3. Huber: (tf.keras.losses.Huber()). Combination of MAE and MSE. Less sensitive to outliers than MSE"
   ],
   "metadata": {
    "collapsed": false
   }
  },
  {
   "cell_type": "markdown",
   "source": [
    "# [Module 42 evaluating a model part 7: MAE as regression evaluation metric](https://youtu.be/tpCFfeUEGs8?t=22639)\n"
   ],
   "metadata": {
    "collapsed": false
   }
  },
  {
   "cell_type": "code",
   "execution_count": 69,
   "outputs": [
    {
     "name": "stdout",
     "output_type": "stream",
     "text": [
      "1/1 [==============================] - 0s 10ms/step - loss: 10.0433 - mae: 10.0433\n",
      "[10.043340682983398, 10.043340682983398]\n",
      "(10,) (10, 1)\n"
     ]
    },
    {
     "data": {
      "text/plain": "<tf.Tensor: shape=(), dtype=float32, numpy=108.140625>"
     },
     "execution_count": 69,
     "metadata": {},
     "output_type": "execute_result"
    }
   ],
   "source": [
    "# evaluate the model on the test set\n",
    "print(model.evaluate(X_test, y_test)) # gives loss, evalueation metric\n",
    "tf.metrics.mean_absolute_error(y_test, y_pred=predications) # gives us accuracy for each prediction if we have mismatched shapes\n",
    "\n",
    "print(y_test.shape, predications.shape)\n",
    "\n",
    "# get rid of extra dimension on predictions with squeeze\n",
    "y_pred = tf.squeeze(predications)\n",
    "\n",
    "tf.metrics.mean_absolute_error(y_test, y_pred) # now we have the overall\n",
    "\n"
   ],
   "metadata": {
    "collapsed": false
   }
  },
  {
   "cell_type": "markdown",
   "source": [
    "# [Module 43 evaluating a model part 8: MSE as regression evaluation metric](https://youtu.be/tpCFfeUEGs8?t=22990)\n"
   ],
   "metadata": {
    "collapsed": false
   }
  },
  {
   "cell_type": "code",
   "execution_count": 17,
   "outputs": [],
   "source": [
    "print(tf.metrics.mean_squared_error(y_true=y_test, y_pred=y_pred)) # errors tend to be larger on MSE than MAE (obviously)\n",
    "\n"
   ],
   "metadata": {
    "collapsed": false
   }
  },
  {
   "cell_type": "code",
   "execution_count": 37,
   "outputs": [],
   "source": [
    "# functions for MAE and MSE\n",
    "def mae(y_true, y_pred):\n",
    "    return tf.metrics.mean_absolute_error(y_true=y_true, y_pred=tf.squeeze(y_pred)).numpy()\n",
    "\n",
    "def mse(y_true, y_pred):\n",
    "    return tf.metrics.mean_squared_error(y_true=y_true, y_pred=tf.squeeze(y_pred)).numpy()"
   ],
   "metadata": {
    "collapsed": false
   }
  },
  {
   "cell_type": "markdown",
   "source": [
    "# [Module 44: Modelling experiments part 1 (start simple)](https://youtu.be/tpCFfeUEGs8?t=23189)\n",
    "\n",
    "### Way to try to improve model\n",
    "1. Get more data\n",
    "2. Make model more complex (more hidden layers)\n",
    "3. Train for longer: give model more of a chance to find patterns in data\n",
    "\n",
    "### Let's do 3 experiments\n",
    "1. 1 layer trained for 100 epochs\n",
    "2. 2 layers trained for 100 epochs\n",
    "3. 2 layers trainer for 500 epochs"
   ],
   "metadata": {
    "collapsed": false
   }
  },
  {
   "cell_type": "code",
   "execution_count": 38,
   "outputs": [
    {
     "data": {
      "text/plain": "<keras.callbacks.History at 0x1699d75b0>"
     },
     "execution_count": 38,
     "metadata": {},
     "output_type": "execute_result"
    }
   ],
   "source": [
    "# model1\n",
    "tf.random.set_seed(42)\n",
    "# print(X_train)\n",
    "# print(y_train)\n",
    "# build model\n",
    "model1 = tf.keras.models.Sequential([\n",
    "    tf.keras.Input(shape=(1,)),\n",
    "    tf.keras.layers.Dense(1)\n",
    "])\n",
    "\n",
    "# compile model\n",
    "model1.compile(loss=tf.keras.losses.mae,\n",
    "               optimizer=tf.keras.optimizers.SGD(),\n",
    "               metrics=[\"mae\"])\n",
    "\n",
    "# fit the model\n",
    "model1.fit(X_train, y_train, epochs=100, verbose=0)"
   ],
   "metadata": {
    "collapsed": false
   }
  },
  {
   "cell_type": "code",
   "execution_count": 39,
   "outputs": [
    {
     "name": "stdout",
     "output_type": "stream",
     "text": [
      "1/1 [==============================] - 0s 22ms/step\n"
     ]
    },
    {
     "data": {
      "text/plain": "<Figure size 1000x700 with 1 Axes>",
      "image/png": "[encoded data removed]"
     },
     "metadata": {},
     "output_type": "display_data"
    },
    {
     "name": "stdout",
     "output_type": "stream",
     "text": [
      "8.599912\n",
      "80.46549\n"
     ]
    }
   ],
   "source": [
    "# make and plot predictions:\n",
    "y_pred1 = model1.predict(X_test)\n",
    "plot_predictions(X_train, y_train, X_test, y_test, y_pred1)\n",
    "\n",
    "# evaluation metrics\n",
    "mae_1 = mae(y_test, y_pred1)\n",
    "mse_1 = mse(y_test, y_pred1)\n",
    "print(mae_1)\n",
    "print(mse_1)"
   ],
   "metadata": {
    "collapsed": false
   }
  },
  {
   "cell_type": "markdown",
   "source": [
    "# [Module 45: Modelling experiments part 2 (more complex)](https://youtu.be/tpCFfeUEGs8?t=24019)"
   ],
   "metadata": {
    "collapsed": false
   }
  },
  {
   "cell_type": "code",
   "execution_count": 46,
   "outputs": [
    {
     "data": {
      "text/plain": "<keras.callbacks.History at 0x16a7846a0>"
     },
     "execution_count": 46,
     "metadata": {},
     "output_type": "execute_result"
    }
   ],
   "source": [
    "# model2\n",
    "tf.random.set_seed(42)\n",
    "# print(X_train)\n",
    "# print(y_train)\n",
    "# build model\n",
    "model2 = tf.keras.models.Sequential([\n",
    "    tf.keras.Input(shape=(1,)),\n",
    "    tf.keras.layers.Dense(10),\n",
    "    tf.keras.layers.Dense(1)\n",
    "])\n",
    "\n",
    "# compile model\n",
    "model2.compile(loss=tf.keras.losses.mae,\n",
    "               optimizer=tf.keras.optimizers.SGD(),\n",
    "               metrics=[\"mae\"])\n",
    "\n",
    "# fit the model\n",
    "model2.fit(X_train, y_train, epochs=100, verbose=0)\n"
   ],
   "metadata": {
    "collapsed": false
   }
  },
  {
   "cell_type": "code",
   "execution_count": 47,
   "outputs": [
    {
     "name": "stdout",
     "output_type": "stream",
     "text": [
      "1/1 [==============================] - 0s 24ms/step\n"
     ]
    },
    {
     "data": {
      "text/plain": "<Figure size 1000x700 with 1 Axes>",
      "image/png": "[encoded data removed]"
     },
     "metadata": {},
     "output_type": "display_data"
    },
    {
     "name": "stdout",
     "output_type": "stream",
     "text": [
      "2.9850974\n",
      "11.6633835\n"
     ]
    }
   ],
   "source": [
    "y_pred2 = model2.predict(X_test)\n",
    "plot_predictions(X_train, y_train, X_test, y_test, y_pred2)\n",
    "\n",
    "# evaluation metrics\n",
    "mae_2 = mae(y_test, y_pred2)\n",
    "mse_2 = mse(y_test, y_pred2)\n",
    "print(mae_2)\n",
    "print(mse_2)"
   ],
   "metadata": {
    "collapsed": false
   }
  },
  {
   "cell_type": "code",
   "execution_count": 42,
   "outputs": [
    {
     "data": {
      "text/plain": "<keras.callbacks.History at 0x16a1c96c0>"
     },
     "execution_count": 42,
     "metadata": {},
     "output_type": "execute_result"
    }
   ],
   "source": [
    "# model3. probably overfitting\n",
    "tf.random.set_seed(42)\n",
    "# print(X_train)\n",
    "# print(y_train)\n",
    "# build model\n",
    "model3 = tf.keras.models.Sequential([\n",
    "    tf.keras.Input(shape=(1,)),\n",
    "    tf.keras.layers.Dense(10),\n",
    "    tf.keras.layers.Dense(1)\n",
    "])\n",
    "\n",
    "# compile model\n",
    "model3.compile(loss=tf.keras.losses.mae,\n",
    "               optimizer=tf.keras.optimizers.SGD(),\n",
    "               metrics=[\"mae\"])\n",
    "\n",
    "# fit the model\n",
    "model3.fit(X_train, y_train, epochs=500, verbose=0)"
   ],
   "metadata": {
    "collapsed": false
   }
  },
  {
   "cell_type": "code",
   "execution_count": 43,
   "outputs": [
    {
     "name": "stdout",
     "output_type": "stream",
     "text": [
      "1/1 [==============================] - 0s 25ms/step\n"
     ]
    },
    {
     "data": {
      "text/plain": "<Figure size 1000x700 with 1 Axes>",
      "image/png": "[encoded data removed]"
     },
     "metadata": {},
     "output_type": "display_data"
    },
    {
     "name": "stdout",
     "output_type": "stream",
     "text": [
      "67.2385\n",
      "4603.704\n"
     ]
    }
   ],
   "source": [
    "y_pred3 = model3.predict(X_test)\n",
    "plot_predictions(X_train, y_train, X_test, y_test, y_pred2)\n",
    "\n",
    "# evaluation metrics\n",
    "mae_3 = mae(y_test, y_pred3)\n",
    "mse_3 = mse(y_test, y_pred3)\n",
    "print(mae_3)\n",
    "print(mse_3)"
   ],
   "metadata": {
    "collapsed": false
   }
  },
  {
   "cell_type": "markdown",
   "source": [
    "# [Module 46: Comparing and tracking experiments](https://youtu.be/tpCFfeUEGs8?t=24709)"
   ],
   "metadata": {
    "collapsed": false
   }
  },
  {
   "cell_type": "code",
   "execution_count": 50,
   "outputs": [
    {
     "name": "stdout",
     "output_type": "stream",
     "text": [
      "Model: \"sequential_15\"\n",
      "_________________________________________________________________\n",
      " Layer (type)                Output Shape              Param #   \n",
      "=================================================================\n",
      " dense_24 (Dense)            (None, 10)                20        \n",
      "                                                                 \n",
      " dense_25 (Dense)            (None, 1)                 11        \n",
      "                                                                 \n",
      "=================================================================\n",
      "Total params: 31\n",
      "Trainable params: 31\n",
      "Non-trainable params: 0\n",
      "_________________________________________________________________\n",
      "None\n",
      "    Model        MAE          MSE\n",
      "0  model1   8.599912    80.465492\n",
      "1  model2   2.985097    11.663383\n",
      "2  model3  67.238503  4603.704102\n"
     ]
    }
   ],
   "source": [
    "model_results = [[\"model1\", mae_1, mse_1],\n",
    "                 [\"model2\", mae_2, mse_2],\n",
    "                 [\"model3\", mae_3, mse_3]]\n",
    "all_results = pd.DataFrame(model_results, columns=[\"Model\", \"MAE\", \"MSE\"])\n",
    "print(model2.summary())\n",
    "print(all_results)"
   ],
   "metadata": {
    "collapsed": false
   }
  },
  {
   "cell_type": "markdown",
   "source": [
    "### Tracking experiments\n",
    "- [TensorBoard](https://tensorboard.dev/): a component of the TensorFlow library to help track modelling experiments.\n",
    "- [Weights & Biases](https://www.wandb.com/): a tool for tracking all kinds of machine learning experiments (the good news for Weights & Biases is it plugs into TensorBoard)."
   ],
   "metadata": {
    "collapsed": false
   }
  },
  {
   "cell_type": "markdown",
   "source": [
    "\n",
    "# [Module 47: Saving our models](https://youtu.be/tpCFfeUEGs8?t=25328)\n",
    "\n",
    "### Formats we can use to save our model:\n",
    "1. the SaveModel format (default)\n",
    "2. the HDF5 format"
   ],
   "metadata": {
    "collapsed": false
   }
  },
  {
   "cell_type": "code",
   "execution_count": 51,
   "outputs": [
    {
     "name": "stderr",
     "output_type": "stream",
     "text": [
      "WARNING:absl:Found untraced functions such as _update_step_xla while saving (showing 1 of 1). These functions will not be directly callable after loading.\n"
     ]
    },
    {
     "name": "stdout",
     "output_type": "stream",
     "text": [
      "INFO:tensorflow:Assets written to: module45_saved_model/assets\n"
     ]
    },
    {
     "name": "stderr",
     "output_type": "stream",
     "text": [
      "INFO:tensorflow:Assets written to: module45_saved_model/assets\n"
     ]
    }
   ],
   "source": [
    "# save model with SaveModel format\n",
    "model2.save(\"module45_saved_model\")  # HDF5 is better for if going use model in other programs outside tensorflow. Add h5 extension to do so."
   ],
   "metadata": {
    "collapsed": false
   }
  },
  {
   "cell_type": "markdown",
   "source": [
    "# [Module 48: Loading our model](https://youtu.be/tpCFfeUEGs8?t=25892)"
   ],
   "metadata": {
    "collapsed": false
   }
  },
  {
   "cell_type": "code",
   "execution_count": 54,
   "outputs": [
    {
     "name": "stdout",
     "output_type": "stream",
     "text": [
      "Model: \"sequential_15\"\n",
      "_________________________________________________________________\n",
      " Layer (type)                Output Shape              Param #   \n",
      "=================================================================\n",
      " dense_24 (Dense)            (None, 10)                20        \n",
      "                                                                 \n",
      " dense_25 (Dense)            (None, 1)                 11        \n",
      "                                                                 \n",
      "=================================================================\n",
      "Total params: 31\n",
      "Trainable params: 31\n",
      "Non-trainable params: 0\n",
      "_________________________________________________________________\n",
      "None\n",
      "1/1 [==============================] - 0s 10ms/step\n",
      "1/1 [==============================] - 0s 22ms/step\n",
      "[[ True]\n",
      " [ True]\n",
      " [ True]\n",
      " [ True]\n",
      " [ True]\n",
      " [ True]\n",
      " [ True]\n",
      " [ True]\n",
      " [ True]\n",
      " [ True]]\n"
     ]
    }
   ],
   "source": [
    "from_disc = tf.keras.models.load_model(\"module45_saved_model\")\n",
    "# check that it's the same as summary for model2\n",
    "print(from_disc.summary())\n",
    "\n",
    "# check if predictions are the same\n",
    "model2_pred_48 = model2.predict(X_test)\n",
    "from_disc_pred = from_disc.predict(X_test)\n",
    "print(model2_pred_48 == from_disc_pred)"
   ],
   "metadata": {
    "collapsed": false
   }
  }
 ],
 "metadata": {
  "kernelspec": {
   "display_name": "Python 3",
   "language": "python",
   "name": "python3"
  },
  "language_info": {
   "codemirror_mode": {
    "name": "ipython",
    "version": 2
   },
   "file_extension": ".py",
   "mimetype": "text/x-python",
   "name": "python",
   "nbconvert_exporter": "python",
   "pygments_lexer": "ipython2",
   "version": "2.7.6"
  }
 },
 "nbformat": 4,
 "nbformat_minor": 0
}
