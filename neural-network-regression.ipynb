{
 "cells": [
  {
   "cell_type": "markdown",
   "source": [
    "# [Module 31 Creating sample regression data](https://youtu.be/tpCFfeUEGs8?t=15459)"
   ],
   "metadata": {
    "collapsed": false
   }
  },
  {
   "cell_type": "code",
   "execution_count": 6,
   "metadata": {
    "collapsed": true
   },
   "outputs": [],
   "source": [
    "import tensorflow as tf\n",
    "import numpy as np\n",
    "import pandas as pd\n",
    "import matplotlib.pyplot as plt\n",
    "\n",
    "\n",
    "X = np.array([-7, -4, -1, 2, 5, 8, 11, 14])  # making data to view and fit\n",
    "Y = np.array([3, 6, 9, 12, 15, 18, 21, 24])  # create labels\n",
    "\n",
    "# visualize it\n",
    "# plt.scatter(X, Y)\n",
    "\n",
    "# we want it to learn that\n",
    "# print(X == Y - 10)\n",
    "\n",
    "# house price demo tensor\n",
    "house_info = tf.constant([\"bedroom\", \"bathroom\", \"garage\"])\n",
    "house_price = tf.constant([937_000])\n",
    "\n",
    "# X and Y are the same shape, so we want to use X[i] to predict Y[i]\n"
   ]
  }
 ],
 "metadata": {
  "kernelspec": {
   "display_name": "Python 3",
   "language": "python",
   "name": "python3"
  },
  "language_info": {
   "codemirror_mode": {
    "name": "ipython",
    "version": 2
   },
   "file_extension": ".py",
   "mimetype": "text/x-python",
   "name": "python",
   "nbconvert_exporter": "python",
   "pygments_lexer": "ipython2",
   "version": "2.7.6"
  }
 },
 "nbformat": 4,
 "nbformat_minor": 0
}
