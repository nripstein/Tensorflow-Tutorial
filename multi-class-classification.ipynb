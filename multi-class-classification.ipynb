{
 "cells": [
  {
   "cell_type": "code",
   "execution_count": 1,
   "metadata": {
    "collapsed": true
   },
   "outputs": [],
   "source": [
    "# imports\n",
    "import numpy as np\n",
    "import pandas as pd\n",
    "import matplotlib.pyplot as plt\n",
    "import tensorflow as tf\n",
    "import sklearn\n",
    "import seaborn as sns\n",
    "\n",
    "tf.random.set_seed(1)"
   ]
  },
  {
   "cell_type": "markdown",
   "source": [
    "# [Module 77: multi class classification part 1 (preparing data)](https://youtu.be/ZUKz4125WNI?t=7828)\n",
    "\n",
    "We'll make a neural network to classify different items of clothing"
   ],
   "metadata": {
    "collapsed": false
   }
  },
  {
   "cell_type": "code",
   "execution_count": 3,
   "outputs": [
    {
     "name": "stdout",
     "output_type": "stream",
     "text": [
      "Downloading data from https://storage.googleapis.com/tensorflow/tf-keras-datasets/train-labels-idx1-ubyte.gz\n",
      "29515/29515 [==============================] - 0s 2us/step\n",
      "Downloading data from https://storage.googleapis.com/tensorflow/tf-keras-datasets/train-images-idx3-ubyte.gz\n",
      "26421880/26421880 [==============================] - 17s 1us/step\n",
      "Downloading data from https://storage.googleapis.com/tensorflow/tf-keras-datasets/t10k-labels-idx1-ubyte.gz\n",
      "5148/5148 [==============================] - 0s 0us/step\n",
      "Downloading data from https://storage.googleapis.com/tensorflow/tf-keras-datasets/t10k-images-idx3-ubyte.gz\n",
      "4422102/4422102 [==============================] - 1s 0us/step\n"
     ]
    }
   ],
   "source": [
    "# downlaod data\n",
    "from tensorflow.keras.datasets import fashion_mnist\n",
    "(train_data, train_labels), (test_data, test_labels) = fashion_mnist.load_data()"
   ],
   "metadata": {
    "collapsed": false
   }
  },
  {
   "cell_type": "markdown",
   "source": [
    "### Getting a sense of the data"
   ],
   "metadata": {
    "collapsed": false
   }
  },
  {
   "cell_type": "code",
   "execution_count": 6,
   "outputs": [
    {
     "name": "stdout",
     "output_type": "stream",
     "text": [
      "[[  0   0   0   0   0   0   0   0   0   0   0   0   0   0   0   0   0   0\n",
      "    0   0   0   0   0   0   0   0   0   0]\n",
      " [  0   0   0   0   0   0   0   0   0   0   0   0   0   0   0   0   0   0\n",
      "    0   0   0   0   0   0   0   0   0   0]\n",
      " [  0   0   0   0   0   0   0   0   0   0   0   0   0   0   0   0   0   0\n",
      "    0   0   0   0   0   0   0   0   0   0]\n",
      " [  0   0   0   0   0   0   0   0   0   0   0   0   1   0   0  13  73   0\n",
      "    0   1   4   0   0   0   0   1   1   0]\n",
      " [  0   0   0   0   0   0   0   0   0   0   0   0   3   0  36 136 127  62\n",
      "   54   0   0   0   1   3   4   0   0   3]\n",
      " [  0   0   0   0   0   0   0   0   0   0   0   0   6   0 102 204 176 134\n",
      "  144 123  23   0   0   0   0  12  10   0]\n",
      " [  0   0   0   0   0   0   0   0   0   0   0   0   0   0 155 236 207 178\n",
      "  107 156 161 109  64  23  77 130  72  15]\n",
      " [  0   0   0   0   0   0   0   0   0   0   0   1   0  69 207 223 218 216\n",
      "  216 163 127 121 122 146 141  88 172  66]\n",
      " [  0   0   0   0   0   0   0   0   0   1   1   1   0 200 232 232 233 229\n",
      "  223 223 215 213 164 127 123 196 229   0]\n",
      " [  0   0   0   0   0   0   0   0   0   0   0   0   0 183 225 216 223 228\n",
      "  235 227 224 222 224 221 223 245 173   0]\n",
      " [  0   0   0   0   0   0   0   0   0   0   0   0   0 193 228 218 213 198\n",
      "  180 212 210 211 213 223 220 243 202   0]\n",
      " [  0   0   0   0   0   0   0   0   0   1   3   0  12 219 220 212 218 192\n",
      "  169 227 208 218 224 212 226 197 209  52]\n",
      " [  0   0   0   0   0   0   0   0   0   0   6   0  99 244 222 220 218 203\n",
      "  198 221 215 213 222 220 245 119 167  56]\n",
      " [  0   0   0   0   0   0   0   0   0   4   0   0  55 236 228 230 228 240\n",
      "  232 213 218 223 234 217 217 209  92   0]\n",
      " [  0   0   1   4   6   7   2   0   0   0   0   0 237 226 217 223 222 219\n",
      "  222 221 216 223 229 215 218 255  77   0]\n",
      " [  0   3   0   0   0   0   0   0   0  62 145 204 228 207 213 221 218 208\n",
      "  211 218 224 223 219 215 224 244 159   0]\n",
      " [  0   0   0   0  18  44  82 107 189 228 220 222 217 226 200 205 211 230\n",
      "  224 234 176 188 250 248 233 238 215   0]\n",
      " [  0  57 187 208 224 221 224 208 204 214 208 209 200 159 245 193 206 223\n",
      "  255 255 221 234 221 211 220 232 246   0]\n",
      " [  3 202 228 224 221 211 211 214 205 205 205 220 240  80 150 255 229 221\n",
      "  188 154 191 210 204 209 222 228 225   0]\n",
      " [ 98 233 198 210 222 229 229 234 249 220 194 215 217 241  65  73 106 117\n",
      "  168 219 221 215 217 223 223 224 229  29]\n",
      " [ 75 204 212 204 193 205 211 225 216 185 197 206 198 213 240 195 227 245\n",
      "  239 223 218 212 209 222 220 221 230  67]\n",
      " [ 48 203 183 194 213 197 185 190 194 192 202 214 219 221 220 236 225 216\n",
      "  199 206 186 181 177 172 181 205 206 115]\n",
      " [  0 122 219 193 179 171 183 196 204 210 213 207 211 210 200 196 194 191\n",
      "  195 191 198 192 176 156 167 177 210  92]\n",
      " [  0   0  74 189 212 191 175 172 175 181 185 188 189 188 193 198 204 209\n",
      "  210 210 211 188 188 194 192 216 170   0]\n",
      " [  2   0   0   0  66 200 222 237 239 242 246 243 244 221 220 193 191 179\n",
      "  182 182 181 176 166 168  99  58   0   0]\n",
      " [  0   0   0   0   0   0   0  40  61  44  72  41  35   0   0   0   0   0\n",
      "    0   0   0   0   0   0   0   0   0   0]\n",
      " [  0   0   0   0   0   0   0   0   0   0   0   0   0   0   0   0   0   0\n",
      "    0   0   0   0   0   0   0   0   0   0]\n",
      " [  0   0   0   0   0   0   0   0   0   0   0   0   0   0   0   0   0   0\n",
      "    0   0   0   0   0   0   0   0   0   0]]\n",
      "---\n",
      "9\n"
     ]
    }
   ],
   "source": [
    "print(train_data[0])\n",
    "print(\"---\")\n",
    "print(train_labels[0])"
   ],
   "metadata": {
    "collapsed": false
   }
  },
  {
   "cell_type": "code",
   "execution_count": 7,
   "outputs": [
    {
     "name": "stdout",
     "output_type": "stream",
     "text": [
      "(28, 28) ()\n"
     ]
    }
   ],
   "source": [
    "print(train_data[0].shape, train_labels[0].shape)\n",
    "# ok so it's 28z28 pixels for input and number representing category for output"
   ],
   "metadata": {
    "collapsed": false
   }
  },
  {
   "cell_type": "code",
   "execution_count": 8,
   "outputs": [
    {
     "data": {
      "text/plain": "<matplotlib.image.AxesImage at 0x288d6c160>"
     },
     "execution_count": 8,
     "metadata": {},
     "output_type": "execute_result"
    },
    {
     "data": {
      "text/plain": "<Figure size 640x480 with 1 Axes>",
      "image/png": "[encoded data removed]"
     },
     "metadata": {},
     "output_type": "display_data"
    }
   ],
   "source": [
    "plt.imshow(train_data[0])\n",
    "plt.show()\n",
    "print(train_labels[0])"
   ],
   "metadata": {
    "collapsed": false
   }
  },
  {
   "cell_type": "markdown",
   "source": [
    "# [Module 78: multi class classification part 2 (becoming one with the data)](https://youtu.be/ZUKz4125WNI?t=7828)"
   ],
   "metadata": {
    "collapsed": false
   }
  },
  {
   "cell_type": "code",
   "execution_count": 11,
   "outputs": [
    {
     "data": {
      "text/plain": "<Figure size 640x480 with 1 Axes>",
      "image/png": "[encoded data removed]"
     },
     "metadata": {},
     "output_type": "display_data"
    },
    {
     "name": "stdout",
     "output_type": "stream",
     "text": [
      "Pullover\n"
     ]
    }
   ],
   "source": [
    "class_names = ['T-shirt/top', 'Trouser', 'Pullover', 'Dress', 'Coat',\n",
    "               'Sandal', 'Shirt', 'Sneaker', 'Bag', 'Ankle boot']\n",
    "\n",
    "i = 5\n",
    "plt.imshow(train_data[i])\n",
    "plt.show()\n",
    "print(class_names[train_labels[i]])\n"
   ],
   "metadata": {
    "collapsed": false
   }
  },
  {
   "cell_type": "code",
   "execution_count": 17,
   "outputs": [
    {
     "data": {
      "text/plain": "<Figure size 640x480 with 4 Axes>",
      "image/png": "[encoded data removed]"
     },
     "metadata": {},
     "output_type": "display_data"
    }
   ],
   "source": [
    "# plot a bunch of random images\n",
    "import random\n",
    "fig, ax = plt.subplots(2, 2)\n",
    "for _ in range(8):\n",
    "    current = random.choice(range(len(train_data)))\n",
    "    ax[0][0].imshow(train_data[current])\n",
    "    ax[0][0].set_title(class_names[train_labels[current]])\n",
    "\n",
    "    current = random.choice(range(len(train_data)))\n",
    "    ax[0][1].imshow(train_data[current])\n",
    "    ax[0][1].set_title(class_names[train_labels[current]])\n",
    "\n",
    "    current = random.choice(range(len(train_data)))\n",
    "    ax[1][0].imshow(train_data[current])\n",
    "    ax[1][0].set_title(class_names[train_labels[current]])\n",
    "\n",
    "    current = random.choice(range(len(train_data)))\n",
    "    ax[1][1].imshow(train_data[current])\n",
    "    ax[1][1].set_title(class_names[train_labels[current]])"
   ],
   "metadata": {
    "collapsed": false
   }
  },
  {
   "cell_type": "markdown",
   "source": [
    "# [Module 78: multi class classification part 3: building multi-class classification model](https://youtu.be/ZUKz4125WNI?t=8893)\n",
    "\n",
    "1. Input shape: 28x28\n",
    "2. Output shape: 10 (one per type of clothing)\n",
    "3. Loss function: tf.keras.losses.CategoricalCrossentropy() if one hot encoded. int => SparseCategoricalCrossentropy()\n",
    "4. Output layer activation: softmax"
   ],
   "metadata": {
    "collapsed": false
   }
  },
  {
   "cell_type": "code",
   "execution_count": 34,
   "outputs": [
    {
     "name": "stdout",
     "output_type": "stream",
     "text": [
      "Epoch 1/10\n",
      "1875/1875 [==============================] - 1s 504us/step - loss: 1.8546 - accuracy: 0.3861 - val_loss: 1.2867 - val_accuracy: 0.5975\n",
      "Epoch 2/10\n",
      "1875/1875 [==============================] - 1s 462us/step - loss: 0.9749 - accuracy: 0.6045 - val_loss: 0.9062 - val_accuracy: 0.6189\n",
      "Epoch 3/10\n",
      "1875/1875 [==============================] - 1s 471us/step - loss: 0.8820 - accuracy: 0.6314 - val_loss: 0.8901 - val_accuracy: 0.6430\n",
      "Epoch 4/10\n",
      "1875/1875 [==============================] - 1s 471us/step - loss: 0.8286 - accuracy: 0.6668 - val_loss: 0.8338 - val_accuracy: 0.6738\n",
      "Epoch 5/10\n",
      "1875/1875 [==============================] - 1s 465us/step - loss: 0.7819 - accuracy: 0.6888 - val_loss: 0.7895 - val_accuracy: 0.6916\n",
      "Epoch 6/10\n",
      "1875/1875 [==============================] - 1s 465us/step - loss: 0.7807 - accuracy: 0.6898 - val_loss: 0.7979 - val_accuracy: 0.6880\n",
      "Epoch 7/10\n",
      "1875/1875 [==============================] - 1s 479us/step - loss: 0.7600 - accuracy: 0.6948 - val_loss: 0.7683 - val_accuracy: 0.6820\n",
      "Epoch 8/10\n",
      "1875/1875 [==============================] - 1s 458us/step - loss: 0.7562 - accuracy: 0.6964 - val_loss: 0.7549 - val_accuracy: 0.7012\n",
      "Epoch 9/10\n",
      "1875/1875 [==============================] - 1s 464us/step - loss: 0.7469 - accuracy: 0.7016 - val_loss: 0.8011 - val_accuracy: 0.6916\n",
      "Epoch 10/10\n",
      "1875/1875 [==============================] - 1s 465us/step - loss: 0.7469 - accuracy: 0.7001 - val_loss: 0.7459 - val_accuracy: 0.6989\n"
     ]
    }
   ],
   "source": [
    "# create model\n",
    "multi_model1 = tf.keras.models.Sequential([\n",
    "    tf.keras.layers.Flatten(input_shape=(28, 28)),\n",
    "    tf.keras.layers.Dense(20, activation=\"relu\"),\n",
    "    tf.keras.layers.Dense(20, activation=\"relu\"),\n",
    "    tf.keras.layers.Dense(10, activation=\"softmax\")\n",
    "])\n",
    "\n",
    "multi_model1.compile(loss=tf.keras.losses.SparseCategoricalCrossentropy(), # CategoricalCrossentropy() only for one hot encoded\n",
    "                     optimizer=tf.keras.optimizers.Adam(),\n",
    "                     metrics=[\"accuracy\"])\n",
    "\n",
    "non_norm_hist = multi_model1.fit(train_data, train_labels, epochs=10, validation_data=(test_data, test_labels))\n",
    "\n"
   ],
   "metadata": {
    "collapsed": false
   }
  },
  {
   "cell_type": "markdown",
   "source": [
    "# [Module 82 multi-class classification part 4 (improving our model)](https://youtu.be/ZUKz4125WNI?t=9832)"
   ],
   "metadata": {
    "collapsed": false
   }
  },
  {
   "cell_type": "code",
   "execution_count": 28,
   "outputs": [
    {
     "name": "stdout",
     "output_type": "stream",
     "text": [
      "0 255\n",
      "0.0 1.0\n"
     ]
    }
   ],
   "source": [
    "print(train_data.min(), train_data.max())\n",
    "# we can normalize to get 0-255 to 0-1\n",
    "normalized_x_train = train_data / 255.0\n",
    "normalized_x_test = test_data / 255.0\n",
    "print(normalized_x_train.min(), normalized_x_train.max())"
   ],
   "metadata": {
    "collapsed": false
   }
  },
  {
   "cell_type": "code",
   "execution_count": 37,
   "outputs": [
    {
     "name": "stdout",
     "output_type": "stream",
     "text": [
      "Epoch 1/10\n",
      "1875/1875 [==============================] - 2s 785us/step - loss: 0.5185 - accuracy: 0.8169 - val_loss: 59.3173 - val_accuracy: 0.8318\n",
      "Epoch 2/10\n",
      "1875/1875 [==============================] - 1s 717us/step - loss: 0.3849 - accuracy: 0.8608 - val_loss: 68.5867 - val_accuracy: 0.8349\n",
      "Epoch 3/10\n",
      "1875/1875 [==============================] - 1s 612us/step - loss: 0.3511 - accuracy: 0.8729 - val_loss: 68.1144 - val_accuracy: 0.8254\n",
      "Epoch 4/10\n",
      "1875/1875 [==============================] - 1s 605us/step - loss: 0.3316 - accuracy: 0.8783 - val_loss: 63.2975 - val_accuracy: 0.8414\n",
      "Epoch 5/10\n",
      "1875/1875 [==============================] - 1s 605us/step - loss: 0.3138 - accuracy: 0.8840 - val_loss: 75.8367 - val_accuracy: 0.8256\n",
      "Epoch 6/10\n",
      "1875/1875 [==============================] - 1s 607us/step - loss: 0.2991 - accuracy: 0.8899 - val_loss: 56.2834 - val_accuracy: 0.8501\n",
      "Epoch 7/10\n",
      "1875/1875 [==============================] - 1s 628us/step - loss: 0.2903 - accuracy: 0.8928 - val_loss: 66.3832 - val_accuracy: 0.8283\n",
      "Epoch 8/10\n",
      "1875/1875 [==============================] - 1s 641us/step - loss: 0.2782 - accuracy: 0.8979 - val_loss: 63.4785 - val_accuracy: 0.8405\n",
      "Epoch 9/10\n",
      "1875/1875 [==============================] - 1s 607us/step - loss: 0.2706 - accuracy: 0.9001 - val_loss: 55.9004 - val_accuracy: 0.8603\n",
      "Epoch 10/10\n",
      "1875/1875 [==============================] - 1s 606us/step - loss: 0.2614 - accuracy: 0.9013 - val_loss: 70.1177 - val_accuracy: 0.8308\n"
     ]
    }
   ],
   "source": [
    "# trying the model with normalized data. Works much better!\n",
    "multi_model2 = tf.keras.models.Sequential([\n",
    "    tf.keras.layers.Flatten(input_shape=(28, 28)),\n",
    "    tf.keras.layers.Dense(50, activation=\"relu\"),\n",
    "    tf.keras.layers.Dense(50, activation=\"relu\"),\n",
    "    tf.keras.layers.Dense(10, activation=\"softmax\"),\n",
    "])\n",
    "\n",
    "multi_model2.compile(loss=tf.keras.losses.SparseCategoricalCrossentropy(),\n",
    "                     optimizer=\"Adam\",\n",
    "                     metrics=[\"accuracy\"])\n",
    "\n",
    "norm_history = multi_model2.fit(normalized_x_train, train_labels, epochs=10, validation_data=(test_data, test_labels))"
   ],
   "metadata": {
    "collapsed": false
   }
  }
 ],
 "metadata": {
  "kernelspec": {
   "display_name": "Python 3",
   "language": "python",
   "name": "python3"
  },
  "language_info": {
   "codemirror_mode": {
    "name": "ipython",
    "version": 2
   },
   "file_extension": ".py",
   "mimetype": "text/x-python",
   "name": "python",
   "nbconvert_exporter": "python",
   "pygments_lexer": "ipython2",
   "version": "2.7.6"
  }
 },
 "nbformat": 4,
 "nbformat_minor": 0
}
